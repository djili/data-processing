{
 "cells": [
  {
   "cell_type": "code",
   "execution_count": 1,
   "id": "631a36eb",
   "metadata": {},
   "outputs": [],
   "source": [
    "# Importations\n",
    "from pyspark.sql import SparkSession\n",
    "from pyspark.sql.functions import explode, split"
   ]
  },
  {
   "cell_type": "code",
   "execution_count": null,
   "id": "7f0b1dae",
   "metadata": {},
   "outputs": [],
   "source": [
    "# Initialiser SparkSession\n",
    "spark = SparkSession.builder.appName(\"WordCount\")"
   ]
  },
  {
   "cell_type": "code",
   "execution_count": 2,
   "id": "e5672b0e",
   "metadata": {},
   "outputs": [
    {
     "ename": "NameError",
     "evalue": "name 'spark' is not defined",
     "output_type": "error",
     "traceback": [
      "\u001b[1;31m---------------------------------------------------------------------------\u001b[0m",
      "\u001b[1;31mNameError\u001b[0m                                 Traceback (most recent call last)",
      "Cell \u001b[1;32mIn[2], line 2\u001b[0m\n\u001b[0;32m      1\u001b[0m \u001b[38;5;66;03m# Lire les données d'un fichier texte\u001b[39;00m\n\u001b[1;32m----> 2\u001b[0m text_file \u001b[38;5;241m=\u001b[39m \u001b[43mspark\u001b[49m\u001b[38;5;241m.\u001b[39mread\u001b[38;5;241m.\u001b[39mtext(\u001b[38;5;124m\"\u001b[39m\u001b[38;5;124mfile:./data./discours.txt\u001b[39m\u001b[38;5;124m\"\u001b[39m)\n",
      "\u001b[1;31mNameError\u001b[0m: name 'spark' is not defined"
     ]
    }
   ],
   "source": [
    "# Lire les données d'un fichier texte\n",
    "text_file = spark.read.text(\"file:./data./discours.txt\")"
   ]
  },
  {
   "cell_type": "code",
   "execution_count": null,
   "id": "c3e51b45",
   "metadata": {},
   "outputs": [],
   "source": [
    "# Diviser les lignes en mots, exploser les mots en lignes et faire un comptage\n",
    "words = text_file.select(explode(split(text_file.value, \"\\\\s+\")).alias(\"word\"))\n",
    "word_counts = words.groupBy(\"word\").count()"
   ]
  },
  {
   "cell_type": "code",
   "execution_count": null,
   "id": "5a95ae0e",
   "metadata": {},
   "outputs": [],
   "source": [
    "# Afficher les résultats\n",
    "word_counts.show()"
   ]
  },
  {
   "cell_type": "code",
   "execution_count": null,
   "id": "a772cc0d",
   "metadata": {},
   "outputs": [],
   "source": [
    "# Classer les mots par nombre d'occurrences en ordre décroissant\n",
    "sorted_word_counts = word_counts.orderBy(\"count\", ascending=False)\n",
    "sorted_word_counts.show()"
   ]
  }
 ],
 "metadata": {
  "kernelspec": {
   "display_name": "pyspark",
   "language": "python",
   "name": "pyspark_env"
  },
  "language_info": {
   "codemirror_mode": {
    "name": "ipython",
    "version": 3
   },
   "file_extension": ".py",
   "mimetype": "text/x-python",
   "name": "python",
   "nbconvert_exporter": "python",
   "pygments_lexer": "ipython3",
   "version": "3.9.23"
  }
 },
 "nbformat": 4,
 "nbformat_minor": 5
}
