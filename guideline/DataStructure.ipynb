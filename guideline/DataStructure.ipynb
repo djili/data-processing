{
 "cells": [
  {
   "cell_type": "markdown",
   "id": "31bc7e0d",
   "metadata": {},
   "source": [
    "# MAGIC # Structure de données \n",
    "# MAGIC nous allons créer les structure RDD et Dataframe"
   ]
  },
  {
   "cell_type": "code",
   "execution_count": null,
   "id": "a29ee1f2",
   "metadata": {},
   "outputs": [],
   "source": [
    "from pyspark import SparkConf, SparkContext"
   ]
  },
  {
   "cell_type": "code",
   "execution_count": null,
   "id": "803dfd5b",
   "metadata": {},
   "outputs": [],
   "source": [
    "# conf\n",
    "conf = SparkConf().setMaster(\"local\").setAppName(\"Datastructure\")\n",
    "sc = SparkContext.getOrCreate(conf = conf)"
   ]
  },
  {
   "cell_type": "markdown",
   "id": "97466447",
   "metadata": {},
   "source": [
    "## Creation d'un RDD"
   ]
  },
  {
   "cell_type": "code",
   "execution_count": null,
   "id": "464adf4b",
   "metadata": {},
   "outputs": [],
   "source": [
    "liste = (1,2,5,6)\n",
    "rdd = sc.parallelize(liste)\n",
    "display(rdd)"
   ]
  },
  {
   "cell_type": "markdown",
   "id": "35ed416c",
   "metadata": {},
   "source": [
    "## Creation d'un dataframe"
   ]
  },
  {
   "cell_type": "code",
   "execution_count": null,
   "id": "ef9b5e1f",
   "metadata": {},
   "outputs": [],
   "source": [
    "# Création d'un dataframe\n",
    "data = [(\"John Doe\", \"30\"), (\"Jane Doe\", \"25\")]\n",
    "columns = [\"Name\", \"Age\"]\n",
    "df = spark.createDataFrame(data, schema=columns)\n",
    "display(df)"
   ]
  },
  {
   "cell_type": "code",
   "execution_count": null,
   "id": "5d77315c",
   "metadata": {},
   "outputs": [],
   "source": [
    "# Création d'un dataframe avec les colonnes directement\n",
    "df = spark.createDataFrame([(\"John Doe\", 30), (\"Jane Doe\", 25)], [\"Name\", \"Age\"])\n",
    "display(df)"
   ]
  },
  {
   "cell_type": "code",
   "execution_count": null,
   "id": "30df21fe",
   "metadata": {},
   "outputs": [],
   "source": [
    "csdfvDF = spark.read.format(\"csv\").option(\"header\", \"true\").load(\"file:/Workspace/Users/diopous1@gmail.com/Exercices/data /customers-1000.csv\")\n",
    "df.printSchema()\n",
    "df.show()"
   ]
  },
  {
   "cell_type": "markdown",
   "id": "0e9b23c7",
   "metadata": {},
   "source": [
    "## Creation d'un Dataset"
   ]
  },
  {
   "cell_type": "code",
   "execution_count": null,
   "id": "61a956c8",
   "metadata": {},
   "outputs": [],
   "source": [
    "# Uniquement disponible en java et scala "
   ]
  },
  {
   "cell_type": "markdown",
   "id": "d1a4889a",
   "metadata": {},
   "source": [
    "## API Pandas"
   ]
  },
  {
   "cell_type": "code",
   "execution_count": null,
   "id": "a2c2594d",
   "metadata": {},
   "outputs": [],
   "source": [
    "import pyspark.pandas as pd"
   ]
  },
  {
   "cell_type": "code",
   "execution_count": null,
   "id": "ed0c7fad",
   "metadata": {},
   "outputs": [],
   "source": [
    "pandasDataframe = pd.DataFrame(\n",
    "    {'a': [1, 2, 3, 4, 5, 6],\n",
    "     'b': [100, 200, 300, 400, 500, 600],\n",
    "     'c': [\"one\", \"two\", \"three\", \"four\", \"five\", \"six\"]},\n",
    "    index=[10, 20, 30, 40, 50, 60])\n",
    "pandasDataframe.describe()\n",
    "type(pandasDataframe)"
   ]
  }
 ],
 "metadata": {
  "kernelspec": {
   "display_name": "pyspark_env",
   "language": "python",
   "name": "python3"
  },
  "language_info": {
   "name": "python",
   "version": "3.9.23"
  }
 },
 "nbformat": 4,
 "nbformat_minor": 5
}
