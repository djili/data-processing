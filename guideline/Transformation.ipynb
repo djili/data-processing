{
  "cells": [
    {
      "cell_type": "markdown",
      "metadata": {
        "id": "view-in-github",
        "colab_type": "text"
      },
      "source": [
        "<a href=\"https://colab.research.google.com/github/djili/data-processing/blob/main/guideline/Transformation.ipynb\" target=\"_parent\"><img src=\"https://colab.research.google.com/assets/colab-badge.svg\" alt=\"Open In Colab\"/></a>"
      ]
    },
    {
      "cell_type": "markdown",
      "id": "006f5223",
      "metadata": {
        "id": "006f5223"
      },
      "source": [
        "# Transformation de base\n",
        "Les transformations sont au cœur de la capacité de traitement des données de Spark. Lorsque vous appliquez une transformation à un RDD, vous créez un nouveau RDD. Les transformations sont paresseuses, ce qui signifie qu’elles ne calculent pas leurs résultats immédiatement. Au lieu de cela, ils se souviennent simplement des transformations appliquées à un ensemble de données de base (par exemple, un fichier). Les transformations ne sont calculées que lorsqu'une action nécessite qu'un résultat soit renvoyé au programme pilote.\n"
      ]
    },
    {
      "cell_type": "code",
      "execution_count": 1,
      "id": "76190a81",
      "metadata": {
        "id": "76190a81"
      },
      "outputs": [],
      "source": [
        "from pyspark import SparkConf, SparkContext"
      ]
    },
    {
      "cell_type": "code",
      "execution_count": 2,
      "id": "9e4d7387",
      "metadata": {
        "id": "9e4d7387"
      },
      "outputs": [],
      "source": [
        "conf = SparkConf().setMaster(\"local\").setAppName(\"Transformation Notebook\")\n",
        "sc = SparkContext.getOrCreate(conf = conf)"
      ]
    },
    {
      "cell_type": "markdown",
      "id": "13de7c92",
      "metadata": {
        "id": "13de7c92"
      },
      "source": [
        "## map\n",
        "La transformation map applique une fonction à chaque élément du RDD et renvoie un nouveau RDD représentant les résultats\n"
      ]
    },
    {
      "cell_type": "code",
      "execution_count": 3,
      "id": "eb890e2d",
      "metadata": {
        "id": "eb890e2d",
        "outputId": "daa40c92-3ae1-4ea1-d89b-70d4f7570ab5",
        "colab": {
          "base_uri": "https://localhost:8080/"
        }
      },
      "outputs": [
        {
          "output_type": "execute_result",
          "data": {
            "text/plain": [
              "[1, 4, 9, 16]"
            ]
          },
          "metadata": {},
          "execution_count": 3
        }
      ],
      "source": [
        "data = sc.parallelize((1, 2, 3, 4))\n",
        "squaredData = data.map(lambda x: x * x)\n",
        "squaredData.collect()"
      ]
    },
    {
      "cell_type": "markdown",
      "id": "f85204d1",
      "metadata": {
        "id": "f85204d1"
      },
      "source": [
        "## filter\n",
        "La filter permet de sélectionner des éléments du RDD qui répondent à certains critères."
      ]
    },
    {
      "cell_type": "code",
      "execution_count": 4,
      "id": "5765b2f0",
      "metadata": {
        "id": "5765b2f0",
        "outputId": "0342d87a-5d8a-4569-8836-096c480cd093",
        "colab": {
          "base_uri": "https://localhost:8080/"
        }
      },
      "outputs": [
        {
          "output_type": "execute_result",
          "data": {
            "text/plain": [
              "[2, 4]"
            ]
          },
          "metadata": {},
          "execution_count": 4
        }
      ],
      "source": [
        "data = sc.parallelize((1, 2, 3, 4))\n",
        "evenData = data.filter(lambda x : x % 2 == 0)\n",
        "evenData.collect()"
      ]
    },
    {
      "cell_type": "markdown",
      "id": "ce304737",
      "metadata": {
        "id": "ce304737"
      },
      "source": [
        "## flatMap\n",
        "Tout en map une fonction à chaque élément individuellement, flatMap peut produire plusieurs éléments de sortie pour chaque élément d'entrée\n"
      ]
    },
    {
      "cell_type": "code",
      "execution_count": 5,
      "id": "e54fb2f7",
      "metadata": {
        "id": "e54fb2f7",
        "outputId": "09aab4e5-f06c-4fca-b575-342e1e068074",
        "colab": {
          "base_uri": "https://localhost:8080/"
        }
      },
      "outputs": [
        {
          "output_type": "execute_result",
          "data": {
            "text/plain": [
              "['hello', 'world', 'how', 'are', 'you']"
            ]
          },
          "metadata": {},
          "execution_count": 5
        }
      ],
      "source": [
        "wordsList = sc.parallelize((\"hello world\", \"how are you\"))\n",
        "words = wordsList.flatMap(lambda x : x.split(\" \"))\n",
        "words.collect()"
      ]
    },
    {
      "cell_type": "markdown",
      "id": "f430d3b7",
      "metadata": {
        "id": "f430d3b7"
      },
      "source": [
        "## union\n",
        "La union fusionne deux RDD"
      ]
    },
    {
      "cell_type": "code",
      "execution_count": 6,
      "id": "9fb5a5f8",
      "metadata": {
        "id": "9fb5a5f8",
        "outputId": "5ef69427-2422-48d8-ce1f-a907d9a99adc",
        "colab": {
          "base_uri": "https://localhost:8080/"
        }
      },
      "outputs": [
        {
          "output_type": "execute_result",
          "data": {
            "text/plain": [
              "[1, 2, 3, 4, 5, 6]"
            ]
          },
          "metadata": {},
          "execution_count": 6
        }
      ],
      "source": [
        "rdd1 = sc.parallelize((1, 2, 3))\n",
        "rdd2 = sc.parallelize((4, 5, 6))\n",
        "commonRDD = rdd1.union(rdd2)\n",
        "commonRDD.collect()"
      ]
    },
    {
      "cell_type": "markdown",
      "id": "f3b2b94c",
      "metadata": {
        "id": "f3b2b94c"
      },
      "source": [
        "## intersection\n",
        "La intersection renvoie un nouveau RDD qui contient uniquement les éléments trouvés dans les deux RDD sources.\n"
      ]
    },
    {
      "cell_type": "code",
      "execution_count": 7,
      "id": "76e9f687",
      "metadata": {
        "id": "76e9f687",
        "outputId": "f6de5d30-537e-4348-940f-fd88fc8bcdf8",
        "colab": {
          "base_uri": "https://localhost:8080/"
        }
      },
      "outputs": [
        {
          "output_type": "execute_result",
          "data": {
            "text/plain": [
              "[3]"
            ]
          },
          "metadata": {},
          "execution_count": 7
        }
      ],
      "source": [
        "rdd1 = sc.parallelize((1, 2, 3))\n",
        "rdd2 = sc.parallelize((3, 4, 5))\n",
        "commonRDD = rdd1.intersection(rdd2)\n",
        "commonRDD.collect()"
      ]
    },
    {
      "cell_type": "markdown",
      "id": "5a5c1b7c",
      "metadata": {
        "id": "5a5c1b7c"
      },
      "source": [
        "## distinct\n",
        "distinct supprime les doublons dans un RDD"
      ]
    },
    {
      "cell_type": "code",
      "execution_count": 8,
      "id": "204a9f97",
      "metadata": {
        "id": "204a9f97",
        "outputId": "36d59e6e-9088-4c27-dd86-3234a32851c5",
        "colab": {
          "base_uri": "https://localhost:8080/"
        }
      },
      "outputs": [
        {
          "output_type": "execute_result",
          "data": {
            "text/plain": [
              "[1, 2, 3]"
            ]
          },
          "metadata": {},
          "execution_count": 8
        }
      ],
      "source": [
        "rdd = sc.parallelize((1, 2, 3, 2, 3))\n",
        "distinctRDD = rdd.distinct()\n",
        "distinctRDD.collect()"
      ]
    },
    {
      "cell_type": "markdown",
      "id": "72e2d21a",
      "metadata": {
        "id": "72e2d21a"
      },
      "source": [
        "## substract\n",
        "subtract renvoie un RDD avec des éléments d'un RDD qui ne sont pas trouvés dans un autre."
      ]
    },
    {
      "cell_type": "code",
      "execution_count": 9,
      "id": "acf44504",
      "metadata": {
        "id": "acf44504",
        "outputId": "6ddf3ce4-bdee-46ca-a6d3-d01d5406e545",
        "colab": {
          "base_uri": "https://localhost:8080/"
        }
      },
      "outputs": [
        {
          "output_type": "execute_result",
          "data": {
            "text/plain": [
              "[2, 1]"
            ]
          },
          "metadata": {},
          "execution_count": 9
        }
      ],
      "source": [
        "rdd1 = sc.parallelize((1, 2, 3, 4))\n",
        "rdd2 = sc.parallelize((3, 4, 5, 6))\n",
        "resultRDD = rdd1.subtract(rdd2)\n",
        "resultRDD.collect()"
      ]
    },
    {
      "cell_type": "markdown",
      "id": "6f8d733a",
      "metadata": {
        "id": "6f8d733a"
      },
      "source": [
        "## cartesian\n",
        "cartesian renvoie toutes les paires possibles de (a, b) où a est dans un RDD et b est dans l'autre."
      ]
    },
    {
      "cell_type": "code",
      "execution_count": 10,
      "id": "f7c4c458",
      "metadata": {
        "id": "f7c4c458",
        "outputId": "9f306b4f-7b9b-4d8d-eb7b-307942fef8d4",
        "colab": {
          "base_uri": "https://localhost:8080/"
        }
      },
      "outputs": [
        {
          "output_type": "execute_result",
          "data": {
            "text/plain": [
              "[(1, 'a'), (1, 'b'), (2, 'a'), (2, 'b')]"
            ]
          },
          "metadata": {},
          "execution_count": 10
        }
      ],
      "source": [
        "rdd1 = sc.parallelize((1, 2))\n",
        "rdd2 = sc.parallelize((\"a\", \"b\"))\n",
        "cartesianRDD = rdd1.cartesian(rdd2)\n",
        "cartesianRDD.collect()"
      ]
    },
    {
      "cell_type": "markdown",
      "id": "d7785415",
      "metadata": {
        "id": "d7785415"
      },
      "source": [
        "# Transformations cle-valeur\n",
        "Lorsque vous travaillez avec des RDD de paires clé-valeur, il existe des transformations supplémentaires qui permettent des agrégations complexes et d'autres opérations sur des paires en fonction de leur clé.\n"
      ]
    },
    {
      "cell_type": "markdown",
      "id": "126668a7",
      "metadata": {
        "id": "126668a7"
      },
      "source": [
        "## reduceByKey\n",
        "reduceByKey agrège les valeurs de chaque clé, à l'aide d'une fonction de réduction associative."
      ]
    },
    {
      "cell_type": "code",
      "execution_count": 11,
      "id": "acec915b",
      "metadata": {
        "id": "acec915b",
        "outputId": "e6457e4a-b676-4e57-a1b8-b7247ca593bf",
        "colab": {
          "base_uri": "https://localhost:8080/"
        }
      },
      "outputs": [
        {
          "output_type": "execute_result",
          "data": {
            "text/plain": [
              "[('apple', 3), ('orange', 3)]"
            ]
          },
          "metadata": {},
          "execution_count": 11
        }
      ],
      "source": [
        "data = sc.parallelize([(\"apple\", 2), (\"orange\", 3), (\"apple\", 1)])\n",
        "reducedData = data.reduceByKey(lambda a, b: a+b)\n",
        "reducedData.collect()"
      ]
    },
    {
      "cell_type": "markdown",
      "id": "7d290e3b",
      "metadata": {
        "id": "7d290e3b"
      },
      "source": [
        "## groupByKey\n",
        "groupByKey regroupe les valeurs de chaque clé du RDD en une seule séquence. Notez qu’il reduceByKeys’agit souvent d’un meilleur choix car il présente de meilleures caractéristiques de performance."
      ]
    },
    {
      "cell_type": "code",
      "execution_count": 12,
      "id": "e9975241",
      "metadata": {
        "id": "e9975241",
        "outputId": "fb4fe130-540c-4579-aad1-0a37f9c79c4d",
        "colab": {
          "base_uri": "https://localhost:8080/"
        }
      },
      "outputs": [
        {
          "output_type": "execute_result",
          "data": {
            "text/plain": [
              "[('apple', <pyspark.resultiterable.ResultIterable at 0x7c6bece87ad0>),\n",
              " ('orange', <pyspark.resultiterable.ResultIterable at 0x7c6bece85250>)]"
            ]
          },
          "metadata": {},
          "execution_count": 12
        }
      ],
      "source": [
        "data = sc.parallelize([(\"apple\", 2), (\"orange\", 3), (\"apple\", 1)])\n",
        "groupedData = data.groupByKey()\n",
        "groupedData.collect()"
      ]
    },
    {
      "cell_type": "markdown",
      "id": "e3da5619",
      "metadata": {
        "id": "e3da5619"
      },
      "source": [
        "## sortByKey\n",
        "sortByKey trie le RDD par clé."
      ]
    },
    {
      "cell_type": "code",
      "execution_count": 13,
      "id": "e6e498e1",
      "metadata": {
        "id": "e6e498e1",
        "outputId": "3242bc5c-c7e3-4b6e-db2d-10c82c1d7146",
        "colab": {
          "base_uri": "https://localhost:8080/"
        }
      },
      "outputs": [
        {
          "output_type": "execute_result",
          "data": {
            "text/plain": [
              "[('apple', 2), ('banana', 1), ('orange', 3)]"
            ]
          },
          "metadata": {},
          "execution_count": 13
        }
      ],
      "source": [
        "data = sc.parallelize([(\"apple\", 2), (\"orange\", 3), (\"banana\", 1)])\n",
        "sortedData = data.sortByKey()\n",
        "sortedData.collect()"
      ]
    },
    {
      "cell_type": "markdown",
      "id": "414901b3",
      "metadata": {
        "id": "414901b3"
      },
      "source": [
        "## join\n",
        "join rejoint deux RDD par clé"
      ]
    },
    {
      "cell_type": "code",
      "execution_count": 14,
      "id": "ac09b099",
      "metadata": {
        "id": "ac09b099",
        "outputId": "d8c2c4de-d09e-4eda-80ef-f69ce3d3b1f2",
        "colab": {
          "base_uri": "https://localhost:8080/"
        }
      },
      "outputs": [
        {
          "output_type": "execute_result",
          "data": {
            "text/plain": [
              "[('apple', (5, 2)), ('orange', (3, 4))]"
            ]
          },
          "metadata": {},
          "execution_count": 14
        }
      ],
      "source": [
        "rdd1 = sc.parallelize([(\"apple\", 5), (\"orange\", 3)])\n",
        "rdd2 = sc.parallelize([(\"apple\", 2), (\"orange\", 4)])\n",
        "joinedRDD = rdd1.join(rdd2)\n",
        "joinedRDD.collect()"
      ]
    },
    {
      "cell_type": "markdown",
      "id": "35616ae3",
      "metadata": {
        "id": "35616ae3"
      },
      "source": [
        "## cogroup\n",
        "cogroup regroupe les valeurs de chaque clé dans deux RDD. Cela peut être utile pour les jointures complexes sur plusieurs RDD"
      ]
    },
    {
      "cell_type": "code",
      "execution_count": 18,
      "id": "c990d43d",
      "metadata": {
        "id": "c990d43d",
        "outputId": "47490e48-1eb5-4310-af42-d4461a4c57cc",
        "colab": {
          "base_uri": "https://localhost:8080/"
        }
      },
      "outputs": [
        {
          "output_type": "execute_result",
          "data": {
            "text/plain": [
              "[('apple',\n",
              "  (<pyspark.resultiterable.ResultIterable at 0x7c6bece81450>,\n",
              "   <pyspark.resultiterable.ResultIterable at 0x7c6bfd86f250>)),\n",
              " ('orange',\n",
              "  (<pyspark.resultiterable.ResultIterable at 0x7c6bece61790>,\n",
              "   <pyspark.resultiterable.ResultIterable at 0x7c6bece23ed0>))]"
            ]
          },
          "metadata": {},
          "execution_count": 18
        }
      ],
      "source": [
        "rdd1 = sc.parallelize([(\"apple\", 2), (\"orange\", 3)])\n",
        "rdd2 = sc.parallelize([(\"apple\", 4), (\"orange\", 5)])\n",
        "cogroupedRDD = rdd1.cogroup(rdd2)\n",
        "cogroupedRDD.collect()"
      ]
    }
  ],
  "metadata": {
    "kernelspec": {
      "display_name": "pyspark_env",
      "language": "python",
      "name": "python3"
    },
    "language_info": {
      "codemirror_mode": {
        "name": "ipython",
        "version": 3
      },
      "file_extension": ".py",
      "mimetype": "text/x-python",
      "name": "python",
      "nbconvert_exporter": "python",
      "pygments_lexer": "ipython3",
      "version": "3.9.23"
    },
    "colab": {
      "provenance": [],
      "include_colab_link": true
    }
  },
  "nbformat": 4,
  "nbformat_minor": 5
}