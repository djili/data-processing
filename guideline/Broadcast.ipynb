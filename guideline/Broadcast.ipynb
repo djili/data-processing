{
  "cells": [
    {
      "cell_type": "markdown",
      "metadata": {
        "id": "view-in-github",
        "colab_type": "text"
      },
      "source": [
        "<a href=\"https://colab.research.google.com/github/djili/data-processing/blob/main/guideline/Broadcast.ipynb\" target=\"_parent\"><img src=\"https://colab.research.google.com/assets/colab-badge.svg\" alt=\"Open In Colab\"/></a>"
      ]
    },
    {
      "cell_type": "code",
      "execution_count": 1,
      "id": "84bbfb35",
      "metadata": {
        "id": "84bbfb35"
      },
      "outputs": [],
      "source": [
        "from pyspark.sql import SparkSession"
      ]
    },
    {
      "cell_type": "code",
      "execution_count": 2,
      "id": "ac5000de",
      "metadata": {
        "id": "ac5000de"
      },
      "outputs": [],
      "source": [
        "spark = SparkSession.builder \\\n",
        "    .appName(\"BroadcastVariableExample\") \\\n",
        "    .master(\"local[*]\") \\\n",
        "    .getOrCreate()"
      ]
    },
    {
      "cell_type": "code",
      "execution_count": 3,
      "id": "33a9fb5d",
      "metadata": {
        "id": "33a9fb5d"
      },
      "outputs": [],
      "source": [
        "# Créer une variable de diffusion avec un dictionnaire d'ID et de noms\n",
        "dataMap = {1: \"Alice\", 2: \"Bob\", 3: \"Charlie\", 4: \"David\"}\n",
        "broadcastData = spark.sparkContext.broadcast(dataMap)"
      ]
    },
    {
      "cell_type": "code",
      "execution_count": 4,
      "id": "f59cbc11",
      "metadata": {
        "id": "f59cbc11"
      },
      "outputs": [],
      "source": [
        "# Fonction utilisant la variable de diffusion pour récupérer des noms en fonction des identifiants\n",
        "def getNameById(id):\n",
        "    map = broadcastData.value\n",
        "    return map.get(id, \"Unknown\")"
      ]
    },
    {
      "cell_type": "code",
      "execution_count": 5,
      "id": "755ebc71",
      "metadata": {
        "id": "755ebc71"
      },
      "outputs": [],
      "source": [
        "# Exemple de RDD d'identifiants pour récupérer des noms à l'aide de la variable de diffusion\n",
        "idRDD = spark.sparkContext.parallelize([1, 3, 2, 5, 4])\n",
        "resultRDD = idRDD.map(lambda id: (id, getNameById(id)))"
      ]
    },
    {
      "cell_type": "code",
      "execution_count": 6,
      "id": "f4f4215c",
      "metadata": {
        "id": "f4f4215c"
      },
      "outputs": [],
      "source": [
        "# Collecte tu résultat\n",
        "resultList = resultRDD.collect()"
      ]
    },
    {
      "cell_type": "code",
      "execution_count": 7,
      "id": "ff4a4c0e",
      "metadata": {
        "id": "ff4a4c0e",
        "outputId": "7c6fb3d4-de81-4b58-fdd9-3c3fd0a8c9ee",
        "colab": {
          "base_uri": "https://localhost:8080/"
        }
      },
      "outputs": [
        {
          "output_type": "stream",
          "name": "stdout",
          "text": [
            "(1, 'Alice')\n",
            "(3, 'Charlie')\n",
            "(2, 'Bob')\n",
            "(5, 'Unknown')\n",
            "(4, 'David')\n"
          ]
        }
      ],
      "source": [
        "# Affichage des differents elements\n",
        "for item in resultList:\n",
        "    print(item)"
      ]
    }
  ],
  "metadata": {
    "language_info": {
      "name": "python"
    },
    "colab": {
      "provenance": [],
      "include_colab_link": true
    },
    "kernelspec": {
      "name": "python3",
      "display_name": "Python 3"
    }
  },
  "nbformat": 4,
  "nbformat_minor": 5
}