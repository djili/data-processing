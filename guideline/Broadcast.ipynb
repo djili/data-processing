{
 "cells": [
  {
   "cell_type": "code",
   "execution_count": null,
   "id": "84bbfb35",
   "metadata": {},
   "outputs": [],
   "source": [
    "from pyspark.sql import SparkSession"
   ]
  },
  {
   "cell_type": "code",
   "execution_count": null,
   "id": "ac5000de",
   "metadata": {},
   "outputs": [],
   "source": [
    "spark = SparkSession.builder \\\n",
    "    .appName(\"BroadcastVariableExample\") \\\n",
    "    .master(\"local[*]\") \\\n",
    "    .getOrCreate()"
   ]
  },
  {
   "cell_type": "code",
   "execution_count": null,
   "id": "33a9fb5d",
   "metadata": {},
   "outputs": [],
   "source": [
    "# Créer une variable de diffusion avec un dictionnaire d'ID et de noms\n",
    "dataMap = {1: \"Alice\", 2: \"Bob\", 3: \"Charlie\", 4: \"David\"}\n",
    "broadcastData = spark.sparkContext.broadcast(dataMap)"
   ]
  },
  {
   "cell_type": "code",
   "execution_count": null,
   "id": "f59cbc11",
   "metadata": {},
   "outputs": [],
   "source": [
    "# Fonction utilisant la variable de diffusion pour récupérer des noms en fonction des identifiants\n",
    "def getNameById(id):\n",
    "    map = broadcastData.value\n",
    "    return map.get(id, \"Unknown\")"
   ]
  },
  {
   "cell_type": "code",
   "execution_count": null,
   "id": "755ebc71",
   "metadata": {},
   "outputs": [],
   "source": [
    "# Exemple de RDD d'identifiants pour récupérer des noms à l'aide de la variable de diffusion\n",
    "idRDD = spark.sparkContext.parallelize([1, 3, 2, 5, 4])\n",
    "resultRDD = idRDD.map(lambda id: (id, getNameById(id)))"
   ]
  },
  {
   "cell_type": "code",
   "execution_count": null,
   "id": "f4f4215c",
   "metadata": {},
   "outputs": [],
   "source": [
    "# Collecte tu résultat \n",
    "resultList = resultRDD.collect()"
   ]
  },
  {
   "cell_type": "code",
   "execution_count": null,
   "id": "ff4a4c0e",
   "metadata": {},
   "outputs": [],
   "source": [
    "# Affichage des differents elements\n",
    "for item in resultList:\n",
    "    print(item)"
   ]
  }
 ],
 "metadata": {
  "language_info": {
   "name": "python"
  }
 },
 "nbformat": 4,
 "nbformat_minor": 5
}
