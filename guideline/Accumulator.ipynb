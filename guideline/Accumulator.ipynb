{
  "cells": [
    {
      "cell_type": "markdown",
      "metadata": {
        "id": "view-in-github",
        "colab_type": "text"
      },
      "source": [
        "<a href=\"https://colab.research.google.com/github/djili/data-processing/blob/main/guideline/Accumulator.ipynb\" target=\"_parent\"><img src=\"https://colab.research.google.com/assets/colab-badge.svg\" alt=\"Open In Colab\"/></a>"
      ]
    },
    {
      "cell_type": "markdown",
      "id": "b56c9a92",
      "metadata": {
        "id": "b56c9a92"
      },
      "source": [
        "# Accumulateur Simple"
      ]
    },
    {
      "cell_type": "code",
      "source": [
        "from pyspark import SparkContext, SparkConf"
      ],
      "metadata": {
        "id": "bVAV6r4A6asd"
      },
      "id": "bVAV6r4A6asd",
      "execution_count": 4,
      "outputs": []
    },
    {
      "cell_type": "code",
      "execution_count": 5,
      "id": "6bcfedf1",
      "metadata": {
        "vscode": {
          "languageId": "plaintext"
        },
        "id": "6bcfedf1"
      },
      "outputs": [],
      "source": [
        "# Spark Context et données\n",
        "conf = SparkConf().setAppName(\"Accumulator\").setMaster(\"local\")\n",
        "sc = SparkContext(conf=conf).getOrCreate()\n",
        "data = [1, 2, 3, 4, 5, 6, 8]"
      ]
    },
    {
      "cell_type": "code",
      "execution_count": 6,
      "id": "257e3747",
      "metadata": {
        "vscode": {
          "languageId": "plaintext"
        },
        "id": "257e3747"
      },
      "outputs": [],
      "source": [
        "# creation d'un accumulateur\n",
        "accumulator = sc.accumulator(0)"
      ]
    },
    {
      "cell_type": "code",
      "execution_count": 7,
      "id": "1327f81e",
      "metadata": {
        "vscode": {
          "languageId": "plaintext"
        },
        "id": "1327f81e"
      },
      "outputs": [],
      "source": [
        "# Creation d'un RDD\n",
        "numbers = sc.parallelize(data)"
      ]
    },
    {
      "cell_type": "code",
      "execution_count": 8,
      "id": "eedf22d6",
      "metadata": {
        "vscode": {
          "languageId": "plaintext"
        },
        "id": "eedf22d6"
      },
      "outputs": [],
      "source": [
        "# Fonction d'incrementation de l'accumulateur\n",
        "# il verifie le nombre paire\n",
        "def increment_acc(num):\n",
        "    global accumulator\n",
        "    if num % 2 == 0:\n",
        "        accumulator += 1\n",
        "\n",
        "numbers.foreach(increment_acc)"
      ]
    },
    {
      "cell_type": "code",
      "execution_count": 9,
      "id": "65e2cd07",
      "metadata": {
        "vscode": {
          "languageId": "plaintext"
        },
        "id": "65e2cd07",
        "outputId": "22d5b1b4-0a23-41ff-fd3d-8f18b2621f88",
        "colab": {
          "base_uri": "https://localhost:8080/"
        }
      },
      "outputs": [
        {
          "output_type": "stream",
          "name": "stdout",
          "text": [
            "------------ Output --------------\n",
            "Nombre d'occurence des nombres paire dans le RDD: 4\n"
          ]
        }
      ],
      "source": [
        "print(\"------------ Output --------------\")\n",
        "#affichage de la valeur de l'accumulateur\n",
        "print(\"Nombre d'occurence des nombres paire dans le RDD: \" + str(accumulator.value))"
      ]
    },
    {
      "cell_type": "markdown",
      "id": "1592ed2b",
      "metadata": {
        "id": "1592ed2b"
      },
      "source": [
        "Nous allons créer un accumulateur personnalisé qui regroupe les chaînes et renvoie une chaîne concaténée de toutes les valeurs accumulées :"
      ]
    },
    {
      "cell_type": "code",
      "execution_count": 10,
      "id": "8fa67113",
      "metadata": {
        "vscode": {
          "languageId": "plaintext"
        },
        "id": "8fa67113"
      },
      "outputs": [],
      "source": [
        "from pyspark.accumulators import AccumulatorParam"
      ]
    },
    {
      "cell_type": "code",
      "execution_count": 11,
      "id": "5fc06e44",
      "metadata": {
        "vscode": {
          "languageId": "plaintext"
        },
        "id": "5fc06e44"
      },
      "outputs": [],
      "source": [
        "class StringConcatenationAccumulator(AccumulatorParam):\n",
        "    def zero(self, initialValue=\"\"):\n",
        "        return \"\"\n",
        "\n",
        "    def addInPlace(self, v1, v2):\n",
        "        return v1 + v2\n"
      ]
    },
    {
      "cell_type": "code",
      "execution_count": 12,
      "id": "f9c3e3b7",
      "metadata": {
        "vscode": {
          "languageId": "plaintext"
        },
        "id": "f9c3e3b7",
        "outputId": "5ae5659a-a6e1-4228-d1c5-b65ff6c3f933",
        "colab": {
          "base_uri": "https://localhost:8080/"
        }
      },
      "outputs": [
        {
          "output_type": "stream",
          "name": "stdout",
          "text": [
            "------------ Output --------------\n",
            "Concatenated string: Hello, this is a custom accumulator.\n"
          ]
        }
      ],
      "source": [
        "customAccumulator = sc.accumulator(\"\", StringConcatenationAccumulator())\n",
        "data = [\"Hello, \", \"this \", \"is \", \"a \", \"custom \", \"accumulator.\"]\n",
        "strings = sc.parallelize(data)\n",
        "strings.foreach(lambda x: customAccumulator.add(x))\n",
        "print(\"------------ Output --------------\")\n",
        "print(\"Concatenated string: \" + customAccumulator.value)"
      ]
    }
  ],
  "metadata": {
    "language_info": {
      "name": "python"
    },
    "colab": {
      "provenance": [],
      "include_colab_link": true
    },
    "kernelspec": {
      "name": "python3",
      "display_name": "Python 3"
    }
  },
  "nbformat": 4,
  "nbformat_minor": 5
}