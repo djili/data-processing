{
  "cells": [
    {
      "cell_type": "markdown",
      "metadata": {
        "id": "view-in-github",
        "colab_type": "text"
      },
      "source": [
        "<a href=\"https://colab.research.google.com/github/djili/data-processing/blob/main/guideline/Filtre.ipynb\" target=\"_parent\"><img src=\"https://colab.research.google.com/assets/colab-badge.svg\" alt=\"Open In Colab\"/></a>"
      ]
    },
    {
      "cell_type": "markdown",
      "id": "fcd8f3f1",
      "metadata": {
        "id": "fcd8f3f1"
      },
      "source": [
        "# Filtrage\n",
        "Le filtrage est une opération de transformation disponible dans Spark qui renvoie un nouveau RDD composé uniquement des éléments qui répondent à une condition spécifique. Il prend une fonction qui évalue une valeur booléenne et applique cette fonction à tous les éléments du RDD pour renvoyer uniquement les éléments pour lesquels la fonction produit true."
      ]
    },
    {
      "cell_type": "code",
      "execution_count": 1,
      "id": "a5971cb4",
      "metadata": {
        "id": "a5971cb4"
      },
      "outputs": [],
      "source": [
        "from pyspark import SparkContext, SparkConf"
      ]
    },
    {
      "cell_type": "code",
      "execution_count": 2,
      "id": "813f04ba",
      "metadata": {
        "id": "813f04ba",
        "outputId": "8e8fc07d-b02d-4ef2-b015-48d718fb1b92",
        "colab": {
          "base_uri": "https://localhost:8080/"
        }
      },
      "outputs": [
        {
          "output_type": "stream",
          "name": "stdout",
          "text": [
            "2\n",
            "4\n",
            "6\n",
            "8\n",
            "10\n"
          ]
        }
      ],
      "source": [
        "## Filtre simple\n",
        "conf = SparkConf().setMaster(\"*\").setAppName(\"Filtrage notebook\")\n",
        "sc = SparkContext.getOrCreate()\n",
        "numbersRDD = sc.parallelize((1, 2, 3, 4, 5, 6, 7, 8, 9, 10))\n",
        "evenNumbersRDD = numbersRDD.filter(lambda n: n % 2 == 0)\n",
        "evenNumbers = evenNumbersRDD.collect()\n",
        "for number in evenNumbers:\n",
        "    print(number)"
      ]
    },
    {
      "cell_type": "markdown",
      "id": "3fe99c74",
      "metadata": {
        "id": "3fe99c74"
      },
      "source": [
        "## Filtre complexe\n",
        " Le filtrage peut également être appliqué à des conditions plus complexes. Supposons que vous ayez affaire à un ensemble de données de personnes et que vous souhaitiez filtrer toutes les personnes de moins de 18 ans et portant un nom spécifique. Tout d’abord, vous devez créer une classe de cas qui représente une personne."
      ]
    },
    {
      "cell_type": "code",
      "execution_count": 3,
      "id": "65a61e73",
      "metadata": {
        "id": "65a61e73"
      },
      "outputs": [],
      "source": [
        "from pyspark.sql import Row"
      ]
    },
    {
      "cell_type": "code",
      "execution_count": 4,
      "id": "051d2c65",
      "metadata": {
        "id": "051d2c65"
      },
      "outputs": [],
      "source": [
        "# Creation d'une liste\n",
        "peopleList = [\n",
        "    Row(name=\"Alice\", age=29), Row(name=\"Bob\", age=20),\n",
        "    Row(name=\"Charlie\", age=17), Row(name=\"David\", age=15),\n",
        "    Row(name=\"Eve\", age=38), Row(name=\"Frank\", age=13)\n",
        "]"
      ]
    },
    {
      "cell_type": "code",
      "execution_count": 5,
      "id": "49f93745",
      "metadata": {
        "id": "49f93745"
      },
      "outputs": [],
      "source": [
        "# Parallelize pour creer le RDD\n",
        "peopleRDD = sc.parallelize(peopleList)"
      ]
    },
    {
      "cell_type": "code",
      "execution_count": 6,
      "id": "cccb1d0a",
      "metadata": {
        "id": "cccb1d0a"
      },
      "outputs": [],
      "source": [
        "# Filtrage\n",
        "adultsNamedAliceRDD = peopleRDD.filter(lambda person: person.age >= 18 and person.name == \"Alice\")"
      ]
    },
    {
      "cell_type": "code",
      "execution_count": 7,
      "id": "e2cb94c9",
      "metadata": {
        "id": "e2cb94c9",
        "outputId": "711d4b5c-87bb-484f-b5e1-0acdd59ce5e4",
        "colab": {
          "base_uri": "https://localhost:8080/",
          "height": 34
        }
      },
      "outputs": [
        {
          "output_type": "display_data",
          "data": {
            "text/plain": [
              "[Row(name='Alice', age=29)]"
            ]
          },
          "metadata": {}
        }
      ],
      "source": [
        "# collect du RDD et affichage\n",
        "display(adultsNamedAliceRDD.collect())"
      ]
    },
    {
      "cell_type": "markdown",
      "id": "dc171edd",
      "metadata": {
        "id": "dc171edd"
      },
      "source": [
        "## Filtre enchaîner\n",
        "Les filtres peuvent être chaînés pour appliquer une séquence de conditions. Chaque appel de filtre entraînera un nouveau RDD, et les conditions pourront être appliquées les unes après les autres.****\n"
      ]
    },
    {
      "cell_type": "code",
      "execution_count": 8,
      "id": "66fa4113",
      "metadata": {
        "id": "66fa4113",
        "outputId": "9ea98ce5-30c2-407b-c7b4-6e9b472d5492",
        "colab": {
          "base_uri": "https://localhost:8080/",
          "height": 34
        }
      },
      "outputs": [
        {
          "output_type": "display_data",
          "data": {
            "text/plain": [
              "[Row(name='Alice', age=29)]"
            ]
          },
          "metadata": {}
        }
      ],
      "source": [
        "#adultsRDD = peopleRDD.filter(lambda age : age >= 18)\n",
        "#adultsNamedAliceRDD = adultsRDD.filter(lambda name : name ==\"Alice\")\n",
        "adultsNamedAliceRDD = peopleRDD.filter(lambda person : person.age >= 18).filter(lambda person : person.name ==\"Alice\")\n",
        "display(adultsNamedAliceRDD.collect())"
      ]
    },
    {
      "cell_type": "markdown",
      "id": "c7835433",
      "metadata": {
        "id": "c7835433"
      },
      "source": [
        "## Filtrage à l'aide de fonctions externes\n",
        "Les conditions de filtre peuvent être extraites vers des fonctions externes pour une meilleure lisibilité, en particulier lorsqu'il s'agit de conditions complexes ou lorsque la même logique est réutilisée dans différentes parties de l'application."
      ]
    },
    {
      "cell_type": "code",
      "execution_count": 9,
      "id": "0b5f77c9",
      "metadata": {
        "id": "0b5f77c9"
      },
      "outputs": [],
      "source": [
        "def isAdult(person):\n",
        "    return person.age >= 18\n",
        "def isNamedAlice(person):\n",
        "    return person.name == \"Alice\""
      ]
    },
    {
      "cell_type": "code",
      "execution_count": 10,
      "id": "95f6bc1b",
      "metadata": {
        "id": "95f6bc1b",
        "outputId": "39b71877-635b-4543-a8c9-3365db48c47c",
        "colab": {
          "base_uri": "https://localhost:8080/",
          "height": 34
        }
      },
      "outputs": [
        {
          "output_type": "display_data",
          "data": {
            "text/plain": [
              "[Row(name='Alice', age=29)]"
            ]
          },
          "metadata": {}
        }
      ],
      "source": [
        "adultsRDD = peopleRDD.filter(isAdult)\n",
        "adultsNamedAliceRDD = adultsRDD.filter(isNamedAlice)\n",
        "display(adultsNamedAliceRDD.collect())"
      ]
    }
  ],
  "metadata": {
    "language_info": {
      "name": "python"
    },
    "colab": {
      "provenance": [],
      "include_colab_link": true
    },
    "kernelspec": {
      "name": "python3",
      "display_name": "Python 3"
    }
  },
  "nbformat": 4,
  "nbformat_minor": 5
}