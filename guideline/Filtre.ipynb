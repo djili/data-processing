{
 "cells": [
  {
   "cell_type": "markdown",
   "id": "fcd8f3f1",
   "metadata": {},
   "source": [
    "# Filtrage\n",
    "Le filtrage est une opération de transformation disponible dans Spark qui renvoie un nouveau RDD composé uniquement des éléments qui répondent à une condition spécifique. Il prend une fonction qui évalue une valeur booléenne et applique cette fonction à tous les éléments du RDD pour renvoyer uniquement les éléments pour lesquels la fonction produit true."
   ]
  },
  {
   "cell_type": "code",
   "execution_count": null,
   "id": "a5971cb4",
   "metadata": {},
   "outputs": [],
   "source": [
    "from pyspark import SparkContext, SparkConf"
   ]
  },
  {
   "cell_type": "code",
   "execution_count": null,
   "id": "813f04ba",
   "metadata": {},
   "outputs": [],
   "source": [
    "## Filtre simple\n",
    "conf = SparkConf().setMaster(\"*\").setAppName(\"Filtrage notebook\")\n",
    "sc = SparkContext.getOrCreate()\n",
    "numbersRDD = sc.parallelize((1, 2, 3, 4, 5, 6, 7, 8, 9, 10))\n",
    "evenNumbersRDD = numbersRDD.filter(lambda n: n % 2 == 0)\n",
    "evenNumbers = evenNumbersRDD.collect()\n",
    "for number in evenNumbers:\n",
    "    print(number)"
   ]
  },
  {
   "cell_type": "markdown",
   "id": "3fe99c74",
   "metadata": {},
   "source": [
    "## Filtre complexe\n",
    " Le filtrage peut également être appliqué à des conditions plus complexes. Supposons que vous ayez affaire à un ensemble de données de personnes et que vous souhaitiez filtrer toutes les personnes de moins de 18 ans et portant un nom spécifique. Tout d’abord, vous devez créer une classe de cas qui représente une personne."
   ]
  },
  {
   "cell_type": "code",
   "execution_count": null,
   "id": "65a61e73",
   "metadata": {},
   "outputs": [],
   "source": [
    "from pyspark.sql import Row"
   ]
  },
  {
   "cell_type": "code",
   "execution_count": null,
   "id": "051d2c65",
   "metadata": {},
   "outputs": [],
   "source": [
    "# Creation d'une liste\n",
    "peopleList = [\n",
    "    Row(name=\"Alice\", age=29), Row(name=\"Bob\", age=20), \n",
    "    Row(name=\"Charlie\", age=17), Row(name=\"David\", age=15), \n",
    "    Row(name=\"Eve\", age=38), Row(name=\"Frank\", age=13)\n",
    "]"
   ]
  },
  {
   "cell_type": "code",
   "execution_count": null,
   "id": "49f93745",
   "metadata": {},
   "outputs": [],
   "source": [
    "# Parallelize pour creer le RDD\n",
    "peopleRDD = sc.parallelize(peopleList)"
   ]
  },
  {
   "cell_type": "code",
   "execution_count": null,
   "id": "cccb1d0a",
   "metadata": {},
   "outputs": [],
   "source": [
    "# Filtrage\n",
    "adultsNamedAliceRDD = peopleRDD.filter(lambda person: person.age >= 18 and person.name == \"Alice\")"
   ]
  },
  {
   "cell_type": "code",
   "execution_count": null,
   "id": "e2cb94c9",
   "metadata": {},
   "outputs": [],
   "source": [
    "# collect du RDD et affichage \n",
    "display(adultsNamedAliceRDD.collect())"
   ]
  },
  {
   "cell_type": "markdown",
   "id": "dc171edd",
   "metadata": {},
   "source": [
    "## Filtre enchaîner\n",
    "Les filtres peuvent être chaînés pour appliquer une séquence de conditions. Chaque appel de filtre entraînera un nouveau RDD, et les conditions pourront être appliquées les unes après les autres.****\n"
   ]
  },
  {
   "cell_type": "code",
   "execution_count": null,
   "id": "66fa4113",
   "metadata": {},
   "outputs": [],
   "source": [
    "#adultsRDD = peopleRDD.filter(lambda age : age >= 18)\n",
    "#adultsNamedAliceRDD = adultsRDD.filter(lambda name : name ==\"Alice\")\n",
    "adultsNamedAliceRDD = peopleRDD.filter(lambda person : person.age >= 18).filter(lambda person : person.name ==\"Alice\")\n",
    "display(adultsNamedAliceRDD.collect())"
   ]
  },
  {
   "cell_type": "markdown",
   "id": "c7835433",
   "metadata": {},
   "source": [
    "## Filtrage à l'aide de fonctions externes\n",
    "Les conditions de filtre peuvent être extraites vers des fonctions externes pour une meilleure lisibilité, en particulier lorsqu'il s'agit de conditions complexes ou lorsque la même logique est réutilisée dans différentes parties de l'application."
   ]
  },
  {
   "cell_type": "code",
   "execution_count": null,
   "id": "0b5f77c9",
   "metadata": {},
   "outputs": [],
   "source": [
    "def isAdult(person): \n",
    "    return person.age >= 18\n",
    "def isNamedAlice(person): \n",
    "    return person.name == \"Alice\""
   ]
  },
  {
   "cell_type": "code",
   "execution_count": null,
   "id": "95f6bc1b",
   "metadata": {},
   "outputs": [],
   "source": [
    "adultsRDD = peopleRDD.filter(isAdult)\n",
    "adultsNamedAliceRDD = adultsRDD.filter(isNamedAlice)\n",
    "display(adultsNamedAliceRDD.collect())"
   ]
  },
  {
   "cell_type": "code",
   "execution_count": null,
   "id": "03271915",
   "metadata": {},
   "outputs": [],
   "source": []
  }
 ],
 "metadata": {
  "language_info": {
   "name": "python"
  }
 },
 "nbformat": 4,
 "nbformat_minor": 5
}
