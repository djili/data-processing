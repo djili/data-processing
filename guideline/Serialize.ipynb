{
  "cells": [
    {
      "cell_type": "markdown",
      "metadata": {
        "id": "view-in-github",
        "colab_type": "text"
      },
      "source": [
        "<a href=\"https://colab.research.google.com/github/djili/data-processing/blob/main/guideline/Serialize.ipynb\" target=\"_parent\"><img src=\"https://colab.research.google.com/assets/colab-badge.svg\" alt=\"Open In Colab\"/></a>"
      ]
    },
    {
      "cell_type": "code",
      "execution_count": 6,
      "id": "459325b3",
      "metadata": {
        "id": "459325b3"
      },
      "outputs": [],
      "source": [
        "from pyspark.sql import SparkSession"
      ]
    },
    {
      "cell_type": "code",
      "source": [
        "spark = SparkSession.builder.appName(\"Serialization\").getOrCreate()"
      ],
      "metadata": {
        "id": "8EwEOFNzHqWB"
      },
      "id": "8EwEOFNzHqWB",
      "execution_count": 7,
      "outputs": []
    },
    {
      "cell_type": "code",
      "source": [
        "data = [{\"name\": \"Alice\", \"age\": 30}, {\"name\": \"Bob\", \"age\": 25}]\n",
        "rdd = spark.sparkContext.parallelize(data)"
      ],
      "metadata": {
        "id": "x4CZTzNIDyli"
      },
      "id": "x4CZTzNIDyli",
      "execution_count": 8,
      "outputs": []
    },
    {
      "cell_type": "code",
      "source": [
        "# Spark sérialise automatiquement lors des transformations comme `cache()`\n",
        "rdd.cache()\n",
        "print(rdd.collect())"
      ],
      "metadata": {
        "id": "1Dca7zz3HmRu",
        "outputId": "882ff47b-ee1c-4ee5-9625-95dc9dfac6bc",
        "colab": {
          "base_uri": "https://localhost:8080/"
        }
      },
      "id": "1Dca7zz3HmRu",
      "execution_count": 9,
      "outputs": [
        {
          "output_type": "stream",
          "name": "stdout",
          "text": [
            "[{'name': 'Alice', 'age': 30}, {'name': 'Bob', 'age': 25}]\n"
          ]
        }
      ]
    }
  ],
  "metadata": {
    "language_info": {
      "name": "python"
    },
    "colab": {
      "provenance": [],
      "include_colab_link": true
    },
    "kernelspec": {
      "name": "python3",
      "display_name": "Python 3"
    }
  },
  "nbformat": 4,
  "nbformat_minor": 5
}