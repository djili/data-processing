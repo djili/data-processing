{
  "cells": [
    {
      "cell_type": "markdown",
      "id": "e530f58a",
      "metadata": {
        "id": "e530f58a"
      },
      "source": [
        " Les actions RDD sont des opérations qui déclenchent l'exécution du traitement des données décrit par les transformations RDD et renvoient les résultats au programme pilote Spark. Ce processus est souvent appelé un travail. Contrairement aux transformations qui définissent les opérations à effectuer, les actions collectent ou génèrent les résultats des calculs RDD. Ci-dessous, nous examinerons différents types d'actions fréquemment utilisées dans les applications Spark."
      ]
    },
    {
      "cell_type": "code",
      "execution_count": 1,
      "id": "94485306",
      "metadata": {
        "id": "94485306"
      },
      "outputs": [],
      "source": [
        "from pyspark import SparkConf, SparkContext"
      ]
    },
    {
      "cell_type": "code",
      "execution_count": 2,
      "id": "8496d61b",
      "metadata": {
        "id": "8496d61b"
      },
      "outputs": [],
      "source": [
        "# conf\n",
        "conf = SparkConf().setMaster(\"local\").setAppName(\"Action Notebook\")\n",
        "sc = SparkContext.getOrCreate(conf = conf)"
      ]
    },
    {
      "cell_type": "code",
      "execution_count": 3,
      "id": "8477a044",
      "metadata": {
        "id": "8477a044"
      },
      "outputs": [],
      "source": [
        "numbersRDD = sc.parallelize((1, 2, 3, 4, 5))"
      ]
    },
    {
      "cell_type": "code",
      "execution_count": 4,
      "id": "54a3feca",
      "metadata": {
        "colab": {
          "base_uri": "https://localhost:8080/"
        },
        "id": "54a3feca",
        "outputId": "d66a311e-afcb-48c9-bad3-5899861f3491"
      },
      "outputs": [
        {
          "output_type": "stream",
          "name": "stdout",
          "text": [
            "1, 2, 3, 4, 5\n"
          ]
        }
      ],
      "source": [
        "# collect() est l'une des actions les plus courantes, qui récupère l'intégralité des données RDD vers le programme pilote. Puisqu’il récupère toutes les données, il doit être utilisé avec prudence, en particulier avec de grands ensembles de données.\n",
        "collectedNumbers = numbersRDD.collect()\n",
        "print(\", \".join(map(str, collectedNumbers)))"
      ]
    },
    {
      "cell_type": "code",
      "execution_count": 5,
      "id": "ad1f4226",
      "metadata": {
        "colab": {
          "base_uri": "https://localhost:8080/"
        },
        "id": "ad1f4226",
        "outputId": "6c576291-91df-4e9e-d0d0-c4f8f0e4a8ed"
      },
      "outputs": [
        {
          "output_type": "stream",
          "name": "stdout",
          "text": [
            "5\n"
          ]
        }
      ],
      "source": [
        "# count() renvoie le nombre d'éléments dans le RDD.\n",
        "totalCount = numbersRDD.count()\n",
        "print(totalCount)"
      ]
    },
    {
      "cell_type": "code",
      "execution_count": 6,
      "id": "283fa1cf",
      "metadata": {
        "colab": {
          "base_uri": "https://localhost:8080/"
        },
        "id": "283fa1cf",
        "outputId": "1698b4b7-0236-4903-bc2b-980b90dfe819"
      },
      "outputs": [
        {
          "output_type": "stream",
          "name": "stdout",
          "text": [
            "1, 2, 3\n"
          ]
        }
      ],
      "source": [
        "# take(n) renvoie les n premiers éléments du RDD.\n",
        "firstThree = numbersRDD.take(3)\n",
        "print(\", \".join(map(str, firstThree)))"
      ]
    },
    {
      "cell_type": "code",
      "execution_count": 7,
      "id": "caa15e76",
      "metadata": {
        "colab": {
          "base_uri": "https://localhost:8080/"
        },
        "id": "caa15e76",
        "outputId": "541f1fbc-b6e9-4318-ff74-c34c834a2cc7"
      },
      "outputs": [
        {
          "output_type": "stream",
          "name": "stdout",
          "text": [
            "1\n"
          ]
        }
      ],
      "source": [
        "# first() est similaire à take(1)mais elle est plus lisible et renvoie le premier élément du RDD.\n",
        "firstElement = numbersRDD.first()\n",
        "print(firstElement)"
      ]
    },
    {
      "cell_type": "code",
      "execution_count": 8,
      "id": "a34f7df7",
      "metadata": {
        "colab": {
          "base_uri": "https://localhost:8080/"
        },
        "id": "a34f7df7",
        "outputId": "0df0ba8b-a095-4931-c8b8-9b3d493e0e0c"
      },
      "outputs": [
        {
          "output_type": "stream",
          "name": "stdout",
          "text": [
            "15\n"
          ]
        }
      ],
      "source": [
        "# reduce() effectue une opération binaire associative et commutative spécifiée sur les éléments RDD et renvoie le résultat.\n",
        "sum = numbersRDD.reduce(lambda a,b : a+b)\n",
        "print(sum)"
      ]
    },
    {
      "cell_type": "code",
      "execution_count": 9,
      "id": "8757aae5",
      "metadata": {
        "colab": {
          "base_uri": "https://localhost:8080/"
        },
        "id": "8757aae5",
        "outputId": "22952e8c-da45-478e-af17-10fd0c43220e"
      },
      "outputs": [
        {
          "output_type": "stream",
          "name": "stdout",
          "text": [
            "15\n"
          ]
        }
      ],
      "source": [
        "# fold() est similaire à reduce(), mais prend une « valeur zéro » supplémentaire à utiliser pour l'appel initial sur chaque partition. La « valeur zéro » doit être l'élément d'identité de l'opération.\n",
        "foldedResult = numbersRDD.fold(0, lambda a, b: a + b)\n",
        "print(foldedResult)"
      ]
    },
    {
      "cell_type": "code",
      "execution_count": 10,
      "id": "799b5d88",
      "metadata": {
        "colab": {
          "base_uri": "https://localhost:8080/"
        },
        "id": "799b5d88",
        "outputId": "229fbfff-ad7f-4e9b-9342-1bbbbb9b02dc"
      },
      "outputs": [
        {
          "output_type": "stream",
          "name": "stdout",
          "text": [
            "(15, 5)\n"
          ]
        }
      ],
      "source": [
        "# MAGIC aggregate() est encore plus générale que fold()et reduce(). Il faut une « valeur zéro » initiale, une fonction pour combiner les éléments du RDD avec l'accumulateur, et une autre fonction pour fusionner deux accumulateurs.\n",
        "aggregateResult = numbersRDD.aggregate(\n",
        "    (0, 0),  # zeroValue\n",
        "    lambda acc, value: (acc[0] + value, acc[1] + 1),  # seqOp\n",
        "    lambda acc1, acc2: (acc1[0] + acc2[0], acc1[1] + acc2[1])  # combOp\n",
        ")\n",
        "print(aggregateResult)"
      ]
    },
    {
      "cell_type": "code",
      "execution_count": 11,
      "id": "7da108db",
      "metadata": {
        "colab": {
          "base_uri": "https://localhost:8080/"
        },
        "id": "7da108db",
        "outputId": "69a43191-ccd7-47d7-d365-d5c5502d6dc6"
      },
      "outputs": [
        {
          "output_type": "stream",
          "name": "stdout",
          "text": [
            "15\n"
          ]
        }
      ],
      "source": [
        "# Mise en cache et persistance\n",
        "# Lorsque des actions RDD sont appelées, Spark calcule le RDD et sa lignée. Si un RDD est utilisé plusieurs fois, il est efficace de le conserver en mémoire en appelant la méthode persist()ou cache(). De cette façon, Spark peut réutiliser le RDD pour des actions ultérieures sans recalculer l'intégralité du lignage.\n",
        "numbersRDD.cache()\n",
        "sumCached = numbersRDD.reduce(lambda a, b: a + b) # Uses the cached data\n",
        "print(sumCached)"
      ]
    }
  ],
  "metadata": {
    "kernelspec": {
      "display_name": "pyspark_env",
      "language": "python",
      "name": "python3"
    },
    "language_info": {
      "codemirror_mode": {
        "name": "ipython",
        "version": 3
      },
      "file_extension": ".py",
      "mimetype": "text/x-python",
      "name": "python",
      "nbconvert_exporter": "python",
      "pygments_lexer": "ipython3",
      "version": "3.9.23"
    },
    "colab": {
      "provenance": []
    }
  },
  "nbformat": 4,
  "nbformat_minor": 5
}