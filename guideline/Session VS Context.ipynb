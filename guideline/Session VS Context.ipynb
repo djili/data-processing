{
  "cells": [
    {
      "cell_type": "markdown",
      "metadata": {
        "id": "view-in-github",
        "colab_type": "text"
      },
      "source": [
        "<a href=\"https://colab.research.google.com/github/djili/data-processing/blob/main/guideline/Session%20VS%20Context.ipynb\" target=\"_parent\"><img src=\"https://colab.research.google.com/assets/colab-badge.svg\" alt=\"Open In Colab\"/></a>"
      ]
    },
    {
      "cell_type": "markdown",
      "id": "c31bc6af",
      "metadata": {
        "id": "c31bc6af"
      },
      "source": [
        "## Spark Context VS Spark Session"
      ]
    },
    {
      "cell_type": "code",
      "execution_count": 1,
      "id": "b002e5fd",
      "metadata": {
        "id": "b002e5fd"
      },
      "outputs": [],
      "source": [
        "from pyspark import SparkContext, SparkConf"
      ]
    },
    {
      "cell_type": "code",
      "execution_count": 2,
      "id": "51e8a01a",
      "metadata": {
        "id": "51e8a01a",
        "outputId": "f1c3ecfd-0930-4b2e-e626-28513cdbad1c",
        "colab": {
          "base_uri": "https://localhost:8080/"
        }
      },
      "outputs": [
        {
          "output_type": "stream",
          "name": "stdout",
          "text": [
            "<SparkContext master=local appName=My Spark App>\n",
            "SparkContext created successfully!\n"
          ]
        }
      ],
      "source": [
        "conf = SparkConf().setAppName(\"My Spark App\").setMaster(\"local\")\n",
        "sc = SparkContext(conf=conf).getOrCreate()\n",
        "print(sc)\n",
        "print(\"SparkContext created successfully!\")\n",
        "sc.stop()"
      ]
    },
    {
      "cell_type": "markdown",
      "id": "82b1848f",
      "metadata": {
        "id": "82b1848f"
      },
      "source": [
        "## Session"
      ]
    },
    {
      "cell_type": "code",
      "execution_count": 3,
      "id": "ea12a011",
      "metadata": {
        "id": "ea12a011"
      },
      "outputs": [],
      "source": [
        "from pyspark.sql import SparkSession"
      ]
    },
    {
      "cell_type": "code",
      "execution_count": 4,
      "id": "d0908bdf",
      "metadata": {
        "id": "d0908bdf",
        "outputId": "06404854-ca6e-4579-bf63-0be1aa457595",
        "colab": {
          "base_uri": "https://localhost:8080/"
        }
      },
      "outputs": [
        {
          "output_type": "stream",
          "name": "stdout",
          "text": [
            "SparkSession created successfully!\n"
          ]
        }
      ],
      "source": [
        "session = SparkSession.builder \\\n",
        "  .appName(\"My Spark Application\") \\\n",
        "  .config(\"spark.master\", \"local\") \\\n",
        "  .getOrCreate()\n",
        "print(\"SparkSession created successfully!\")\n",
        "session.stop()"
      ]
    }
  ],
  "metadata": {
    "language_info": {
      "name": "python"
    },
    "colab": {
      "provenance": [],
      "include_colab_link": true
    },
    "kernelspec": {
      "name": "python3",
      "display_name": "Python 3"
    }
  },
  "nbformat": 4,
  "nbformat_minor": 5
}