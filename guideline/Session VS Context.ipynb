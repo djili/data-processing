{
 "cells": [
  {
   "cell_type": "markdown",
   "id": "78f2a032",
   "metadata": {},
   "source": [
    "## Session"
   ]
  },
  {
   "cell_type": "markdown",
   "id": "c31bc6af",
   "metadata": {},
   "source": [
    "## Spark Context"
   ]
  },
  {
   "cell_type": "code",
   "execution_count": null,
   "id": "b002e5fd",
   "metadata": {},
   "outputs": [],
   "source": [
    "from pyspark import SparkContext, SparkConf"
   ]
  },
  {
   "cell_type": "code",
   "execution_count": null,
   "id": "51e8a01a",
   "metadata": {},
   "outputs": [],
   "source": [
    "conf = SparkConf().setAppName(\"My Spark App\").setMaster(\"local\")\n",
    "sc = SparkContext(conf=conf).getOrCreate()\n",
    "print(sc)\n",
    "print(\"SparkContext created successfully!\")\n",
    "sc.stop()"
   ]
  },
  {
   "cell_type": "markdown",
   "id": "82b1848f",
   "metadata": {},
   "source": [
    "## Session"
   ]
  },
  {
   "cell_type": "code",
   "execution_count": null,
   "id": "ea12a011",
   "metadata": {},
   "outputs": [],
   "source": [
    "from pyspark.sql import SparkSession"
   ]
  },
  {
   "cell_type": "code",
   "execution_count": null,
   "id": "d0908bdf",
   "metadata": {},
   "outputs": [],
   "source": [
    "session = SparkSession.builder \\\n",
    "  .appName(\"My Spark Application\") \\\n",
    "  .config(\"spark.master\", \"local\") \\\n",
    "  .getOrCreate()\n",
    "print(\"SparkSession created successfully!\")\n",
    "session.stop()"
   ]
  },
  {
   "cell_type": "code",
   "execution_count": null,
   "id": "4bed489e",
   "metadata": {},
   "outputs": [],
   "source": []
  },
  {
   "cell_type": "code",
   "execution_count": null,
   "id": "69b5f506",
   "metadata": {},
   "outputs": [],
   "source": []
  }
 ],
 "metadata": {
  "language_info": {
   "name": "python"
  }
 },
 "nbformat": 4,
 "nbformat_minor": 5
}
