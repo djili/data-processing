{
 "cells": [
  {
   "cell_type": "code",
   "execution_count": null,
   "id": "b79c7e66",
   "metadata": {},
   "outputs": [],
   "source": [
    "from pyspark.sql import SparkSession"
   ]
  },
  {
   "cell_type": "code",
   "execution_count": null,
   "id": "a21cc7f9",
   "metadata": {},
   "outputs": [],
   "source": [
    "# Lire un fichier CSV\n",
    "csvDF = spark.read.format(\"csv\").option(\"header\", \"true\").load(\"file:/Workspace/Users/diopous1@gmail.com/Exercices/data /customers-1000.csv\")\n",
    "csvDF.show(5)"
   ]
  },
  {
   "cell_type": "code",
   "execution_count": null,
   "id": "3e8b4554",
   "metadata": {},
   "outputs": [],
   "source": [
    "# Lire un fichier Parquet\n",
    "parquetDF = spark.read.format(\"parquet\").load(\"file:/Workspace/Users/diopous1@gmail.com/Exercices/data /MT cars.parquet\")\n",
    "parquetDF.show(5)"
   ]
  }
 ],
 "metadata": {
  "language_info": {
   "name": "python"
  }
 },
 "nbformat": 4,
 "nbformat_minor": 5
}
