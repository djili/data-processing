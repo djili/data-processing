{
  "cells": [
    {
      "cell_type": "markdown",
      "metadata": {
        "id": "view-in-github",
        "colab_type": "text"
      },
      "source": [
        "<a href=\"https://colab.research.google.com/github/djili/data-processing/blob/main/guideline/dataIngestion.ipynb\" target=\"_parent\"><img src=\"https://colab.research.google.com/assets/colab-badge.svg\" alt=\"Open In Colab\"/></a>"
      ]
    },
    {
      "cell_type": "code",
      "execution_count": 1,
      "id": "b79c7e66",
      "metadata": {
        "id": "b79c7e66"
      },
      "outputs": [],
      "source": [
        "from pyspark.sql import SparkSession"
      ]
    },
    {
      "cell_type": "code",
      "execution_count": 3,
      "id": "a21cc7f9",
      "metadata": {
        "id": "a21cc7f9",
        "outputId": "ebcbbec2-79e4-4d6d-aaf2-0c1d574bed2c",
        "colab": {
          "base_uri": "https://localhost:8080/"
        }
      },
      "outputs": [
        {
          "output_type": "stream",
          "name": "stdout",
          "text": [
            "+-----+---------------+----------+---------+--------------------+----------------+----------------+--------------------+-------------------+--------------------+-----------------+--------------------+\n",
            "|Index|    Customer Id|First Name|Last Name|             Company|            City|         Country|             Phone 1|            Phone 2|               Email|Subscription Date|             Website|\n",
            "+-----+---------------+----------+---------+--------------------+----------------+----------------+--------------------+-------------------+--------------------+-----------------+--------------------+\n",
            "|    1|dE014d010c7ab0c|    Andrew|  Goodman|       Stewart-Flynn|     Rowlandberg|           Macao|   846-790-4623x4715|(422)787-2331x71127|marieyates@gomez-...|       2021-07-26|http://www.shea.biz/|\n",
            "|    2|2B54172c8b65eC3|     Alvin|     Lane|Terry, Proctor an...|        Bethside|Papua New Guinea|  124-597-8652x05682|  321.441.0588x6218|alexandra86@mccoy...|       2021-06-24|http://www.pena-c...|\n",
            "|    3|d794Dd48988d2ac|     Jenna|  Harding|        Bailey Group|    Moniquemouth|           China|  (335)987-3085x3780|   001-680-204-8312|justincurtis@pier...|       2020-04-05|http://www.booth-...|\n",
            "|    4|3b3Aa4aCc68f3Be|  Fernando|     Ford|        Moss-Maxwell|      Leeborough|           Macao|       (047)752-3122|  048.779.5035x9122| adeleon@hubbard.org|       2020-11-29|http://www.hebert...|\n",
            "|    5|D60df62ad2ae41E|      Kara|    Woods|     Mccarthy-Kelley|Port Jacksonland|           Nepal|+1-360-693-4419x1...|       163-627-2565|jesus90@roberson....|       2022-04-22| http://merritt.com/|\n",
            "+-----+---------------+----------+---------+--------------------+----------------+----------------+--------------------+-------------------+--------------------+-----------------+--------------------+\n",
            "only showing top 5 rows\n",
            "\n"
          ]
        }
      ],
      "source": [
        "# Lire un fichier CSV\n",
        "spark = SparkSession.builder.appName(\"CSVParquet\").getOrCreate()\n",
        "csvDF = spark.read.format(\"csv\").option(\"header\", \"true\").load(\"/content/customers-1000.csv\")\n",
        "csvDF.show(5)"
      ]
    },
    {
      "cell_type": "code",
      "execution_count": 4,
      "id": "3e8b4554",
      "metadata": {
        "id": "3e8b4554",
        "outputId": "8cc9e809-c00d-46ba-d869-d317e24a86c7",
        "colab": {
          "base_uri": "https://localhost:8080/"
        }
      },
      "outputs": [
        {
          "output_type": "stream",
          "name": "stdout",
          "text": [
            "+-------+-------+--------+-----------+--------+-----------+-------------+----------+----------+------------+------------+-----------+-----------+-----------+-----------+--------+--------+-------+-------+---------+-------+------------+\n",
            "|MinTemp|MaxTemp|Rainfall|Evaporation|Sunshine|WindGustDir|WindGustSpeed|WindDir9am|WindDir3pm|WindSpeed9am|WindSpeed3pm|Humidity9am|Humidity3pm|Pressure9am|Pressure3pm|Cloud9am|Cloud3pm|Temp9am|Temp3pm|RainToday|RISK_MM|RainTomorrow|\n",
            "+-------+-------+--------+-----------+--------+-----------+-------------+----------+----------+------------+------------+-----------+-----------+-----------+-----------+--------+--------+-------+-------+---------+-------+------------+\n",
            "|    8.0|   24.3|     0.0|        3.4|     6.3|         NW|           30|        SW|        NW|           6|          20|         68|         29|     1019.7|     1015.0|       7|       7|   14.4|   23.6|       No|    3.6|         Yes|\n",
            "|   14.0|   26.9|     3.6|        4.4|     9.7|        ENE|           39|         E|         W|           4|          17|         80|         36|     1012.4|     1008.4|       5|       3|   17.5|   25.7|      Yes|    3.6|         Yes|\n",
            "|   13.7|   23.4|     3.6|        5.8|     3.3|         NW|           85|         N|       NNE|           6|           6|         82|         69|     1009.5|     1007.2|       8|       7|   15.4|   20.2|      Yes|   39.8|         Yes|\n",
            "|   13.3|   15.5|    39.8|        7.2|     9.1|         NW|           54|       WNW|         W|          30|          24|         62|         56|     1005.5|     1007.0|       2|       7|   13.5|   14.1|      Yes|    2.8|         Yes|\n",
            "|    7.6|   16.1|     2.8|        5.6|    10.6|        SSE|           50|       SSE|       ESE|          20|          28|         68|         49|     1018.3|     1018.5|       7|       7|   11.1|   15.4|      Yes|    0.0|          No|\n",
            "+-------+-------+--------+-----------+--------+-----------+-------------+----------+----------+------------+------------+-----------+-----------+-----------+-----------+--------+--------+-------+-------+---------+-------+------------+\n",
            "only showing top 5 rows\n",
            "\n"
          ]
        }
      ],
      "source": [
        "# Lire un fichier Parquet\n",
        "parquetDF = spark.read.format(\"parquet\").load(\"/content/weather.parquet\")\n",
        "parquetDF.show(5)"
      ]
    }
  ],
  "metadata": {
    "language_info": {
      "name": "python"
    },
    "colab": {
      "provenance": [],
      "include_colab_link": true
    },
    "kernelspec": {
      "name": "python3",
      "display_name": "Python 3"
    }
  },
  "nbformat": 4,
  "nbformat_minor": 5
}