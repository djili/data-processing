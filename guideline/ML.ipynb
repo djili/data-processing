{
  "cells": [
    {
      "cell_type": "code",
      "execution_count": 1,
      "id": "379093f0",
      "metadata": {
        "id": "379093f0"
      },
      "outputs": [],
      "source": [
        "from pyspark.sql import SparkSession\n",
        "from pyspark.ml.feature import VectorAssembler, StringIndexer\n",
        "from pyspark.sql.functions import col\n",
        "from pyspark.ml.classification import LogisticRegression\n",
        "from pyspark.ml.evaluation import BinaryClassificationEvaluator"
      ]
    },
    {
      "cell_type": "code",
      "execution_count": 2,
      "id": "d2ce8400",
      "metadata": {
        "id": "d2ce8400"
      },
      "outputs": [],
      "source": [
        "# Créer une SparkSession\n",
        "spark = SparkSession.builder \\\n",
        "    .appName(\"DiabetesClassification\") \\\n",
        "    .getOrCreate()"
      ]
    },
    {
      "cell_type": "code",
      "execution_count": 3,
      "id": "cb9659fc",
      "metadata": {
        "id": "cb9659fc",
        "outputId": "f2191a18-0650-47b2-9f74-4630073dd90b",
        "colab": {
          "base_uri": "https://localhost:8080/"
        }
      },
      "outputs": [
        {
          "output_type": "stream",
          "name": "stdout",
          "text": [
            "root\n",
            " |-- PatientID: integer (nullable = true)\n",
            " |-- Pregnancies: integer (nullable = true)\n",
            " |-- PlasmaGlucose: integer (nullable = true)\n",
            " |-- DiastolicBloodPressure: integer (nullable = true)\n",
            " |-- TricepsThickness: integer (nullable = true)\n",
            " |-- SerumInsulin: integer (nullable = true)\n",
            " |-- BMI: double (nullable = true)\n",
            " |-- DiabetesPedigree: double (nullable = true)\n",
            " |-- Age: integer (nullable = true)\n",
            " |-- Diabetic: integer (nullable = true)\n",
            "\n",
            "+---------+-----------+-------------+----------------------+----------------+------------+-----------+----------------+---+--------+\n",
            "|PatientID|Pregnancies|PlasmaGlucose|DiastolicBloodPressure|TricepsThickness|SerumInsulin|        BMI|DiabetesPedigree|Age|Diabetic|\n",
            "+---------+-----------+-------------+----------------------+----------------+------------+-----------+----------------+---+--------+\n",
            "|  1354778|          0|          171|                    80|              34|          23|43.50972593|     1.213191354| 21|       0|\n",
            "|  1147438|          8|           92|                    93|              47|          36|21.24057571|     0.158364981| 23|       0|\n",
            "|  1640031|          7|          115|                    47|              52|          35|41.51152348|     0.079018568| 23|       0|\n",
            "|  1883350|          9|          103|                    78|              25|         304|29.58219193|     1.282869847| 43|       1|\n",
            "|  1424119|          1|           85|                    59|              27|          35|42.60453585|     0.549541871| 22|       0|\n",
            "+---------+-----------+-------------+----------------------+----------------+------------+-----------+----------------+---+--------+\n",
            "only showing top 5 rows\n",
            "\n"
          ]
        }
      ],
      "source": [
        "data = spark.read.csv(\"file:/content/diabetes.csv\", header=True, inferSchema=True)\n",
        "data.printSchema()\n",
        "data.show(5)"
      ]
    },
    {
      "cell_type": "code",
      "execution_count": 4,
      "id": "208dd45a",
      "metadata": {
        "id": "208dd45a"
      },
      "outputs": [],
      "source": [
        "# Assembler les colonnes de caractéristiques\n",
        "feature_columns = [col for col in data.columns if col != 'Diabetic']\n",
        "assembler = VectorAssembler(inputCols=feature_columns, outputCol=\"features\")\n",
        "data_prepared = assembler.transform(data)"
      ]
    },
    {
      "cell_type": "code",
      "execution_count": 5,
      "id": "2b3ccb8e",
      "metadata": {
        "id": "2b3ccb8e"
      },
      "outputs": [],
      "source": [
        "# Diviser les données en ensembles d'entraînement et de test\n",
        "train_data, test_data = data_prepared.randomSplit([0.8, 0.2])"
      ]
    },
    {
      "cell_type": "code",
      "execution_count": 6,
      "id": "324e9614",
      "metadata": {
        "id": "324e9614"
      },
      "outputs": [],
      "source": [
        "# Entraîner un modèle de régression logistique\n",
        "lr = LogisticRegression(featuresCol=\"features\", labelCol=\"Diabetic\")\n",
        "lr_model = lr.fit(train_data)"
      ]
    },
    {
      "cell_type": "code",
      "execution_count": 7,
      "id": "81877bab",
      "metadata": {
        "id": "81877bab",
        "outputId": "dce1ec30-ca09-41cc-e3ca-1bc06d367738",
        "colab": {
          "base_uri": "https://localhost:8080/"
        }
      },
      "outputs": [
        {
          "output_type": "stream",
          "name": "stdout",
          "text": [
            "+--------------------+--------+----------+\n",
            "|            features|Diabetic|prediction|\n",
            "+--------------------+--------+----------+\n",
            "|[1000326.0,3.0,11...|       1|       1.0|\n",
            "|[1000471.0,1.0,53...|       0|       0.0|\n",
            "|[1000652.0,2.0,13...|       1|       0.0|\n",
            "|[1001229.0,2.0,82...|       1|       0.0|\n",
            "|[1001511.0,4.0,97...|       1|       1.0|\n",
            "+--------------------+--------+----------+\n",
            "only showing top 5 rows\n",
            "\n"
          ]
        }
      ],
      "source": [
        "# Faire des prédictions sur les données de test\n",
        "predictions = lr_model.transform(test_data)\n",
        "predictions.select(\"features\", \"Diabetic\", \"prediction\").show(5)"
      ]
    },
    {
      "cell_type": "code",
      "execution_count": 8,
      "id": "fdb51f25",
      "metadata": {
        "id": "fdb51f25",
        "outputId": "3080d01c-4290-42ee-8a56-17abb5bbf077",
        "colab": {
          "base_uri": "https://localhost:8080/"
        }
      },
      "outputs": [
        {
          "output_type": "stream",
          "name": "stdout",
          "text": [
            "ROC: 0.7511205248139322\n"
          ]
        }
      ],
      "source": [
        "# Evaluation a l'aide de la courve roc\n",
        "evaluator = BinaryClassificationEvaluator(labelCol=\"Diabetic\", rawPredictionCol=\"prediction\", metricName=\"areaUnderROC\")\n",
        "areaUnderROC = evaluator.evaluate(predictions)\n",
        "print(f\"ROC: {areaUnderROC}\")\n"
      ]
    }
  ],
  "metadata": {
    "language_info": {
      "name": "python"
    },
    "colab": {
      "provenance": []
    },
    "kernelspec": {
      "name": "python3",
      "display_name": "Python 3"
    }
  },
  "nbformat": 4,
  "nbformat_minor": 5
}