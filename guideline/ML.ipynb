{
 "cells": [
  {
   "cell_type": "code",
   "execution_count": null,
   "id": "379093f0",
   "metadata": {},
   "outputs": [],
   "source": [
    "from pyspark.sql import SparkSession\n",
    "from pyspark.ml.feature import VectorAssembler, StringIndexer\n",
    "from pyspark.sql.functions import col\n",
    "from pyspark.ml.classification import LogisticRegression\n",
    "from pyspark.ml.evaluation import BinaryClassificationEvaluator"
   ]
  },
  {
   "cell_type": "code",
   "execution_count": null,
   "id": "d2ce8400",
   "metadata": {},
   "outputs": [],
   "source": [
    "# Créer une SparkSession\n",
    "spark = SparkSession.builder \\\n",
    "    .appName(\"DiabetesClassification\") \\\n",
    "    .getOrCreate()"
   ]
  },
  {
   "cell_type": "code",
   "execution_count": null,
   "id": "cb9659fc",
   "metadata": {},
   "outputs": [],
   "source": [
    "data = spark.read.csv(\"file:/Workspace/Users/diopous1@gmail.com/Exercices/data /diabetes.csv\", header=True, inferSchema=True)\n",
    "data.printSchema()\n",
    "data.show(5)"
   ]
  },
  {
   "cell_type": "code",
   "execution_count": null,
   "id": "208dd45a",
   "metadata": {},
   "outputs": [],
   "source": [
    "# Assembler les colonnes de caractéristiques\n",
    "feature_columns = [col for col in data.columns if col != 'Diabetic']\n",
    "assembler = VectorAssembler(inputCols=feature_columns, outputCol=\"features\")\n",
    "data_prepared = assembler.transform(data)"
   ]
  },
  {
   "cell_type": "code",
   "execution_count": null,
   "id": "2b3ccb8e",
   "metadata": {},
   "outputs": [],
   "source": [
    "# Diviser les données en ensembles d'entraînement et de test\n",
    "train_data, test_data = data_prepared.randomSplit([0.8, 0.2])"
   ]
  },
  {
   "cell_type": "code",
   "execution_count": null,
   "id": "324e9614",
   "metadata": {},
   "outputs": [],
   "source": [
    "# Entraîner un modèle de régression logistique\n",
    "lr = LogisticRegression(featuresCol=\"features\", labelCol=\"Diabetic\")\n",
    "lr_model = lr.fit(train_data)"
   ]
  },
  {
   "cell_type": "code",
   "execution_count": null,
   "id": "81877bab",
   "metadata": {},
   "outputs": [],
   "source": [
    "# Faire des prédictions sur les données de test\n",
    "predictions = lr_model.transform(test_data)\n",
    "predictions.select(\"features\", \"Diabetic\", \"prediction\").show(5)"
   ]
  },
  {
   "cell_type": "code",
   "execution_count": null,
   "id": "fdb51f25",
   "metadata": {},
   "outputs": [],
   "source": [
    "# Evaluation a l'aide de la courve roc\n",
    "evaluator = BinaryClassificationEvaluator(labelCol=\"Diabetic\", rawPredictionCol=\"prediction\", metricName=\"areaUnderROC\")\n",
    "areaUnderROC = evaluator.evaluate(predictions)\n",
    "print(f\"ROC: {areaUnderROC}\")\n"
   ]
  },
  {
   "cell_type": "code",
   "execution_count": null,
   "id": "388ede78",
   "metadata": {},
   "outputs": [],
   "source": []
  }
 ],
 "metadata": {
  "language_info": {
   "name": "python"
  }
 },
 "nbformat": 4,
 "nbformat_minor": 5
}
