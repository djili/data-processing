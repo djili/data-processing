{
  "cells": [
    {
      "cell_type": "markdown",
      "metadata": {
        "id": "view-in-github",
        "colab_type": "text"
      },
      "source": [
        "<a href=\"https://colab.research.google.com/github/djili/data-processing/blob/main/wordcount.ipynb\" target=\"_parent\"><img src=\"https://colab.research.google.com/assets/colab-badge.svg\" alt=\"Open In Colab\"/></a>"
      ]
    },
    {
      "cell_type": "code",
      "execution_count": 3,
      "id": "182bec3b",
      "metadata": {
        "id": "182bec3b"
      },
      "outputs": [],
      "source": [
        "# Importations\n",
        "from pyspark.sql import SparkSession\n",
        "from pyspark.sql.functions import explode, split"
      ]
    },
    {
      "cell_type": "code",
      "execution_count": 5,
      "id": "5975f6e6",
      "metadata": {
        "id": "5975f6e6",
        "outputId": "11baee64-c3a6-46ee-cd57-01341a698384",
        "colab": {
          "base_uri": "https://localhost:8080/",
          "height": 219
        }
      },
      "outputs": [
        {
          "output_type": "execute_result",
          "data": {
            "text/plain": [
              "<pyspark.sql.session.SparkSession at 0x78c2055ac790>"
            ],
            "text/html": [
              "\n",
              "            <div>\n",
              "                <p><b>SparkSession - in-memory</b></p>\n",
              "                \n",
              "        <div>\n",
              "            <p><b>SparkContext</b></p>\n",
              "\n",
              "            <p><a href=\"http://b92221450dee:4040\">Spark UI</a></p>\n",
              "\n",
              "            <dl>\n",
              "              <dt>Version</dt>\n",
              "                <dd><code>v3.5.1</code></dd>\n",
              "              <dt>Master</dt>\n",
              "                <dd><code>local</code></dd>\n",
              "              <dt>AppName</dt>\n",
              "                <dd><code>Word count</code></dd>\n",
              "            </dl>\n",
              "        </div>\n",
              "        \n",
              "            </div>\n",
              "        "
            ]
          },
          "metadata": {},
          "execution_count": 5
        }
      ],
      "source": [
        "# Initialiser SparkSession\n",
        "session = SparkSession.builder.appName(\"Word count\").config(\"spark.master\", \"local\").getOrCreate()\n",
        "session"
      ]
    },
    {
      "cell_type": "code",
      "execution_count": 9,
      "id": "d282e46d",
      "metadata": {
        "id": "d282e46d"
      },
      "outputs": [],
      "source": [
        "# Lire les données d'un fichier texte\n",
        "text_file = session.read.text(\"file:/content/sample_data/discours.txt\")"
      ]
    },
    {
      "cell_type": "code",
      "execution_count": 10,
      "id": "901ab2af",
      "metadata": {
        "id": "901ab2af"
      },
      "outputs": [],
      "source": [
        "# Diviser les lignes en mots, exploser les mots en lignes et faire un comptage\n",
        "words = text_file.select(explode(split(text_file.value, \"\\\\s+\")).alias(\"word\"))\n",
        "word_counts = words.groupBy(\"word\").count()"
      ]
    },
    {
      "cell_type": "code",
      "execution_count": 12,
      "id": "f35d2aa7",
      "metadata": {
        "id": "f35d2aa7",
        "outputId": "d3e63136-4ea5-4913-e4b3-a81382158e08",
        "colab": {
          "base_uri": "https://localhost:8080/"
        }
      },
      "outputs": [
        {
          "output_type": "stream",
          "name": "stdout",
          "text": [
            "+---------------+-----+\n",
            "|           word|count|\n",
            "+---------------+-----+\n",
            "|           tant|    3|\n",
            "|             ».|   14|\n",
            "|          soin,|    1|\n",
            "|            ces|    5|\n",
            "|   justificatif|    1|\n",
            "|   modestement,|    1|\n",
            "|professionnelle|    1|\n",
            "|           vie,|    2|\n",
            "|         entrée|    1|\n",
            "|          aléas|    1|\n",
            "|  l’enseignant,|    1|\n",
            "|      grossesse|    1|\n",
            "|      remodeler|    1|\n",
            "|      proposent|    1|\n",
            "|           (ils|    1|\n",
            "|        diviser|    1|\n",
            "|         Béchir|    1|\n",
            "|    conclusions|    1|\n",
            "|        servir.|    2|\n",
            "|       concours|    1|\n",
            "|          1810,|    1|\n",
            "|        bénite.|    1|\n",
            "|            1er|    1|\n",
            "|       doctrine|    1|\n",
            "|      maturité,|    1|\n",
            "|    temporaire,|    1|\n",
            "|      Marocains|    2|\n",
            "|       exemple.|    1|\n",
            "|      secteurs,|    1|\n",
            "|             en|   45|\n",
            "|             du|   46|\n",
            "|         place,|    1|\n",
            "|              7|    1|\n",
            "|        répéter|    2|\n",
            "|   complétaient|    1|\n",
            "| arbitrairement|    1|\n",
            "|       tracées,|    1|\n",
            "|          bâtir|    1|\n",
            "|            par|   29|\n",
            "|           faut|   19|\n",
            "+---------------+-----+\n",
            "only showing top 40 rows\n",
            "\n"
          ]
        }
      ],
      "source": [
        "# Afficher les résultats\n",
        "word_counts.show(40)"
      ]
    },
    {
      "cell_type": "code",
      "execution_count": null,
      "id": "efff141c",
      "metadata": {
        "id": "efff141c"
      },
      "outputs": [],
      "source": [
        "# Classer les mots par nombre d'occurrences en ordre décroissant\n",
        "sorted_word_counts = word_counts.orderBy(\"count\", ascending=False)\n",
        "sorted_word_counts.show()"
      ]
    }
  ],
  "metadata": {
    "kernelspec": {
      "display_name": "pyspark",
      "language": "python",
      "name": "pyspark_env"
    },
    "language_info": {
      "codemirror_mode": {
        "name": "ipython",
        "version": 3
      },
      "file_extension": ".py",
      "mimetype": "text/x-python",
      "name": "python",
      "nbconvert_exporter": "python",
      "pygments_lexer": "ipython3",
      "version": "3.9.23"
    },
    "colab": {
      "provenance": [],
      "include_colab_link": true
    }
  },
  "nbformat": 4,
  "nbformat_minor": 5
}