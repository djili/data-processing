{
 "cells": [
  {
   "cell_type": "code",
   "execution_count": null,
   "id": "8b1e782f",
   "metadata": {},
   "outputs": [],
   "source": [
    "import findspark\n",
    "findspark.init()\n",
    "findspark.find()"
   ]
  },
  {
   "cell_type": "code",
   "execution_count": 2,
   "id": "49521e2d",
   "metadata": {},
   "outputs": [
    {
     "name": "stderr",
     "output_type": "stream",
     "text": [
      "Erreur : LinkageError lors du chargement de la classe principale org.apache.spark.launcher.Main\n",
      "\tjava.lang.UnsupportedClassVersionError: org/apache/spark/launcher/Main has been compiled by a more recent version of the Java Runtime (class file version 61.0), this version of the Java Runtime only recognizes class file versions up to 55.0\n"
     ]
    }
   ],
   "source": [
    "! spark-shell"
   ]
  },
  {
   "cell_type": "code",
   "execution_count": 1,
   "id": "182bec3b",
   "metadata": {},
   "outputs": [],
   "source": [
    "# Importations\n",
    "from pyspark.sql import SparkSession\n",
    "from pyspark.sql.functions import explode, split"
   ]
  },
  {
   "cell_type": "code",
   "execution_count": null,
   "id": "5975f6e6",
   "metadata": {},
   "outputs": [],
   "source": [
    "# Initialiser SparkSession\n",
    "session = SparkSession.builder.appName(\"My Spark Application\").config(\"spark.master\", \"local\").getOrCreate()\n",
    "print(\"SparkSession created successfully!\")"
   ]
  },
  {
   "cell_type": "code",
   "execution_count": 9,
   "id": "d282e46d",
   "metadata": {},
   "outputs": [
    {
     "ename": "AttributeError",
     "evalue": "'Builder' object has no attribute 'read'",
     "output_type": "error",
     "traceback": [
      "\u001b[1;31m---------------------------------------------------------------------------\u001b[0m",
      "\u001b[1;31mAttributeError\u001b[0m                            Traceback (most recent call last)",
      "Cell \u001b[1;32mIn[9], line 2\u001b[0m\n\u001b[0;32m      1\u001b[0m \u001b[38;5;66;03m# Lire les données d'un fichier texte\u001b[39;00m\n\u001b[1;32m----> 2\u001b[0m text_file \u001b[38;5;241m=\u001b[39m \u001b[43mspark\u001b[49m\u001b[38;5;241;43m.\u001b[39;49m\u001b[43mread\u001b[49m\u001b[38;5;241m.\u001b[39mtext(\u001b[38;5;124m\"\u001b[39m\u001b[38;5;124mfile:./data./discours.txt\u001b[39m\u001b[38;5;124m\"\u001b[39m)\n",
      "\u001b[1;31mAttributeError\u001b[0m: 'Builder' object has no attribute 'read'"
     ]
    }
   ],
   "source": [
    "# Lire les données d'un fichier texte\n",
    "text_file = sc.read.text(\"file:./data./discours.txt\")"
   ]
  },
  {
   "cell_type": "code",
   "execution_count": null,
   "id": "901ab2af",
   "metadata": {},
   "outputs": [],
   "source": [
    "# Diviser les lignes en mots, exploser les mots en lignes et faire un comptage\n",
    "words = text_file.select(explode(split(text_file.value, \"\\\\s+\")).alias(\"word\"))\n",
    "word_counts = words.groupBy(\"word\").count()"
   ]
  },
  {
   "cell_type": "code",
   "execution_count": null,
   "id": "f35d2aa7",
   "metadata": {},
   "outputs": [],
   "source": [
    "# Afficher les résultats\n",
    "word_counts.show()"
   ]
  },
  {
   "cell_type": "code",
   "execution_count": null,
   "id": "efff141c",
   "metadata": {},
   "outputs": [],
   "source": [
    "# Classer les mots par nombre d'occurrences en ordre décroissant\n",
    "sorted_word_counts = word_counts.orderBy(\"count\", ascending=False)\n",
    "sorted_word_counts.show()"
   ]
  }
 ],
 "metadata": {
  "kernelspec": {
   "display_name": "pyspark",
   "language": "python",
   "name": "pyspark_env"
  },
  "language_info": {
   "codemirror_mode": {
    "name": "ipython",
    "version": 3
   },
   "file_extension": ".py",
   "mimetype": "text/x-python",
   "name": "python",
   "nbconvert_exporter": "python",
   "pygments_lexer": "ipython3",
   "version": "3.9.23"
  }
 },
 "nbformat": 4,
 "nbformat_minor": 5
}
