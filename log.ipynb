{
  "cells": [
    {
      "cell_type": "markdown",
      "metadata": {
        "id": "view-in-github",
        "colab_type": "text"
      },
      "source": [
        "<a href=\"https://colab.research.google.com/github/djili/data-processing/blob/main/log.ipynb\" target=\"_parent\"><img src=\"https://colab.research.google.com/assets/colab-badge.svg\" alt=\"Open In Colab\"/></a>"
      ]
    },
    {
      "cell_type": "markdown",
      "source": [
        "# Log Analytics\n",
        "Cet exercice consiste à lire un fichier(lien) de logs Apache public, à effectuer une série de transformations et d'actions. Les transformations devront utiliser des opérations comme map, filter, flatMap, union, intersection, groupByKey, et reduceByKey.\n",
        "\n",
        "1.   Lire un fichier de logs Apache;\n",
        "2.   Extraire les adresses IP et les URI demandés;\n",
        "3.   Filtrer les requêtes pour obtenir uniquement celles avec des codes de statut 200;\n",
        "4.   Compter le nombre de requêtes par adresse IP;\n",
        "5.   Trouver les URI les plus fréquemment demandés;\n",
        "6.   Identifier les adresses IP uniques ayant accédé au serveur;\n"
      ],
      "metadata": {
        "id": "qSuZIPDzTETO"
      },
      "id": "qSuZIPDzTETO"
    },
    {
      "cell_type": "code",
      "execution_count": 1,
      "id": "38b1e822",
      "metadata": {
        "vscode": {
          "languageId": "plaintext"
        },
        "id": "38b1e822"
      },
      "outputs": [],
      "source": [
        "from pyspark.sql import SparkSession\n",
        "from pyspark.sql.functions import col, regexp_extract, count, desc\n",
        "import pyspark.sql.functions as F"
      ]
    },
    {
      "cell_type": "code",
      "source": [
        "# Démarrer une session Spark\n",
        "spark = SparkSession.builder.appName(\"Log analytics\").getOrCreate()\n",
        "spark"
      ],
      "metadata": {
        "id": "PAg3HolGUtgn",
        "outputId": "1208177a-51b9-41ce-9d92-5da6a16333b7",
        "colab": {
          "base_uri": "https://localhost:8080/",
          "height": 219
        }
      },
      "id": "PAg3HolGUtgn",
      "execution_count": 2,
      "outputs": [
        {
          "output_type": "execute_result",
          "data": {
            "text/plain": [
              "<pyspark.sql.session.SparkSession at 0x7e2c2dea9fd0>"
            ],
            "text/html": [
              "\n",
              "            <div>\n",
              "                <p><b>SparkSession - in-memory</b></p>\n",
              "                \n",
              "        <div>\n",
              "            <p><b>SparkContext</b></p>\n",
              "\n",
              "            <p><a href=\"http://47fb211b5c72:4040\">Spark UI</a></p>\n",
              "\n",
              "            <dl>\n",
              "              <dt>Version</dt>\n",
              "                <dd><code>v3.5.1</code></dd>\n",
              "              <dt>Master</dt>\n",
              "                <dd><code>local[*]</code></dd>\n",
              "              <dt>AppName</dt>\n",
              "                <dd><code>Log analytics</code></dd>\n",
              "            </dl>\n",
              "        </div>\n",
              "        \n",
              "            </div>\n",
              "        "
            ]
          },
          "metadata": {},
          "execution_count": 2
        }
      ]
    },
    {
      "cell_type": "code",
      "source": [
        "# Lire le fichier le fichier text\n",
        "txt = spark.read.text(\"/content/log.txt\")\n",
        "txt.show()"
      ],
      "metadata": {
        "id": "eRm8y-0EUwVQ",
        "outputId": "0ebca9d2-dd67-434b-897b-82af2e6d0658",
        "colab": {
          "base_uri": "https://localhost:8080/"
        }
      },
      "id": "eRm8y-0EUwVQ",
      "execution_count": 3,
      "outputs": [
        {
          "output_type": "stream",
          "name": "stdout",
          "text": [
            "+--------------------+\n",
            "|               value|\n",
            "+--------------------+\n",
            "|83.149.9.216 - - ...|\n",
            "|83.149.9.216 - - ...|\n",
            "|83.149.9.216 - - ...|\n",
            "|83.149.9.216 - - ...|\n",
            "|83.149.9.216 - - ...|\n",
            "|83.149.9.216 - - ...|\n",
            "|83.149.9.216 - - ...|\n",
            "|83.149.9.216 - - ...|\n",
            "|83.149.9.216 - - ...|\n",
            "|83.149.9.216 - - ...|\n",
            "|83.149.9.216 - - ...|\n",
            "|83.149.9.216 - - ...|\n",
            "|83.149.9.216 - - ...|\n",
            "|83.149.9.216 - - ...|\n",
            "|83.149.9.216 - - ...|\n",
            "|83.149.9.216 - - ...|\n",
            "|83.149.9.216 - - ...|\n",
            "|83.149.9.216 - - ...|\n",
            "|83.149.9.216 - - ...|\n",
            "|83.149.9.216 - - ...|\n",
            "+--------------------+\n",
            "only showing top 20 rows\n",
            "\n"
          ]
        }
      ]
    },
    {
      "cell_type": "code",
      "source": [
        "# Définition du pattern pour parser les logs Apache\n",
        "LOG_PATTERN = r'^(\\S+) - - \\[([^\\]]+)\\] \"(\\S+) (\\S+) (\\S+)\" (\\d+) (\\d+) \"([^\"]*)\" \"([^\"]*)\"'\n",
        "\n",
        "# Extraction des champs avec regexp_extract\n",
        "parsed_logs = txt.select(\n",
        "    regexp_extract('value', LOG_PATTERN, 1).alias('ip'),\n",
        "    regexp_extract('value', LOG_PATTERN, 4).alias('uri'),\n",
        "    regexp_extract('value', LOG_PATTERN, 6).cast('integer').alias('status')\n",
        ").filter(col('ip') != \"\")  # Supprime les lignes non parsées"
      ],
      "metadata": {
        "id": "Yb1F3N21UwKq"
      },
      "id": "Yb1F3N21UwKq",
      "execution_count": 4,
      "outputs": []
    },
    {
      "cell_type": "code",
      "source": [
        "# Filtrage des requêtes avec code de statut 200\n",
        "successful_requests = parsed_logs.filter(col(\"status\") == 200)"
      ],
      "metadata": {
        "id": "_Hbs1jNZUwE6"
      },
      "id": "_Hbs1jNZUwE6",
      "execution_count": 5,
      "outputs": []
    },
    {
      "cell_type": "code",
      "source": [
        "# Nombre de requêtes par adresse IP\n",
        "requests_per_ip = successful_requests.groupBy(\"ip\").agg(\n",
        "    count(\"*\").alias(\"request_count\")\n",
        ")\n",
        "print(\"Nombre de requêtes par adresse IP (top 10):\")\n",
        "requests_per_ip.orderBy(desc(\"request_count\")).show(10, truncate=False)\n"
      ],
      "metadata": {
        "id": "7-JB53WuUv_M",
        "outputId": "d0ff36f8-a2ea-4c44-ef07-7ca4a76aed5b",
        "colab": {
          "base_uri": "https://localhost:8080/"
        }
      },
      "id": "7-JB53WuUv_M",
      "execution_count": 6,
      "outputs": [
        {
          "output_type": "stream",
          "name": "stdout",
          "text": [
            "Nombre de requêtes par adresse IP (top 10):\n",
            "+---------------+-------------+\n",
            "|ip             |request_count|\n",
            "+---------------+-------------+\n",
            "|66.249.73.135  |419          |\n",
            "|46.105.14.53   |364          |\n",
            "|130.237.218.86 |288          |\n",
            "|50.16.19.13    |113          |\n",
            "|209.85.238.199 |102          |\n",
            "|75.97.9.59     |93           |\n",
            "|68.180.224.225 |91           |\n",
            "|198.46.149.143 |82           |\n",
            "|208.115.111.72 |72           |\n",
            "|108.171.116.194|65           |\n",
            "+---------------+-------------+\n",
            "only showing top 10 rows\n",
            "\n"
          ]
        }
      ]
    },
    {
      "cell_type": "code",
      "source": [
        "# URI les plus fréquemment demandés\n",
        "popular_uris = successful_requests.groupBy(\"uri\").agg(\n",
        "    count(\"*\").alias(\"request_count\")\n",
        ")\n",
        "print(\"\\nURI les plus fréquemment demandés (top 10):\")\n",
        "popular_uris.orderBy(desc(\"request_count\")).show(10, truncate=False)"
      ],
      "metadata": {
        "id": "-v-_ZbhBUv4T",
        "outputId": "75fcf64b-2fb4-4ed1-f682-e20a6b0f572c",
        "colab": {
          "base_uri": "https://localhost:8080/"
        }
      },
      "id": "-v-_ZbhBUv4T",
      "execution_count": 7,
      "outputs": [
        {
          "output_type": "stream",
          "name": "stdout",
          "text": [
            "\n",
            "URI les plus fréquemment demandés (top 10):\n",
            "+-------------------------------+-------------+\n",
            "|uri                            |request_count|\n",
            "+-------------------------------+-------------+\n",
            "|/favicon.ico                   |788          |\n",
            "|/style2.css                    |532          |\n",
            "|/reset.css                     |528          |\n",
            "|/images/jordan-80.png          |519          |\n",
            "|/images/web/2009/banner.png    |506          |\n",
            "|/blog/tags/puppet?flav=rss20   |488          |\n",
            "|/projects/xdotool/             |220          |\n",
            "|/?flav=rss20                   |217          |\n",
            "|/                              |194          |\n",
            "|/projects/xdotool/xdotool.xhtml|147          |\n",
            "+-------------------------------+-------------+\n",
            "only showing top 10 rows\n",
            "\n"
          ]
        }
      ]
    },
    {
      "cell_type": "code",
      "source": [
        "# Adresses IP uniques ayant accédé au serveur\n",
        "unique_ips = successful_requests.select(\"ip\").distinct()\n",
        "print(\"\\nAdresses IP uniques ayant accédé au serveur (total):\")\n",
        "print(unique_ips.count())"
      ],
      "metadata": {
        "id": "cATGhHP6XNGo",
        "outputId": "225fa9c2-7211-4453-ded1-9000134b419f",
        "colab": {
          "base_uri": "https://localhost:8080/"
        }
      },
      "id": "cATGhHP6XNGo",
      "execution_count": 8,
      "outputs": [
        {
          "output_type": "stream",
          "name": "stdout",
          "text": [
            "\n",
            "Adresses IP uniques ayant accédé au serveur (total):\n",
            "1615\n"
          ]
        }
      ]
    },
    {
      "cell_type": "code",
      "source": [
        "spark.stop()\n"
      ],
      "metadata": {
        "id": "J-DNeZuSXT61"
      },
      "id": "J-DNeZuSXT61",
      "execution_count": 10,
      "outputs": []
    },
    {
      "cell_type": "markdown",
      "source": [],
      "metadata": {
        "id": "Fxvb4jRzTeep"
      },
      "id": "Fxvb4jRzTeep"
    }
  ],
  "metadata": {
    "language_info": {
      "name": "python"
    },
    "colab": {
      "provenance": [],
      "include_colab_link": true
    },
    "kernelspec": {
      "name": "python3",
      "display_name": "Python 3"
    }
  },
  "nbformat": 4,
  "nbformat_minor": 5
}