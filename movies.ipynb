{
  "cells": [
    {
      "cell_type": "markdown",
      "metadata": {
        "id": "view-in-github",
        "colab_type": "text"
      },
      "source": [
        "<a href=\"https://colab.research.google.com/github/djili/data-processing/blob/main/movies.ipynb\" target=\"_parent\"><img src=\"https://colab.research.google.com/assets/colab-badge.svg\" alt=\"Open In Colab\"/></a>"
      ]
    },
    {
      "cell_type": "markdown",
      "id": "924c769d",
      "metadata": {
        "id": "924c769d"
      },
      "source": [
        "Lire un fichier CSV contenant des informations sur des films(nous utiliserons le RDD du dataframe df.rdd).\n",
        "Utiliser des accumulateurs pour suivre le nombre total de lignes et le nombre de lignes valides.\n",
        "Utiliser des variables broadcast pour distribuer une liste de genres de films à surveiller.\n",
        "Calculer le nombre total de films pour chaque genre surveillé.\n",
        "Identifier les années avec le plus grand nombre de films pour chaque genre surveillé."
      ]
    },
    {
      "cell_type": "code",
      "source": [
        "from pyspark.sql import SparkSession\n",
        "import json"
      ],
      "metadata": {
        "id": "NYOln7C7vqSy"
      },
      "id": "NYOln7C7vqSy",
      "execution_count": 1,
      "outputs": []
    },
    {
      "cell_type": "code",
      "source": [
        "# Créer une session Spar\n",
        "spark = SparkSession.builder.appName(\"AnalyseFilms\").getOrCreate()"
      ],
      "metadata": {
        "id": "RNCofj6uvukH"
      },
      "id": "RNCofj6uvukH",
      "execution_count": 2,
      "outputs": []
    },
    {
      "cell_type": "code",
      "source": [
        "# Lire le fichier CSV avec en-têtes\n",
        "df = spark.read.option(\"header\", True).csv(\"/content/sample_data/movies_metadata.csv\")"
      ],
      "metadata": {
        "id": "5kiIrHJxvugr"
      },
      "id": "5kiIrHJxvugr",
      "execution_count": 3,
      "outputs": []
    },
    {
      "cell_type": "code",
      "source": [
        "#Récupérer le RDD depuis le DataFrame\n",
        "rdd = df.rdd"
      ],
      "metadata": {
        "id": "KhAcAO9Evuc7"
      },
      "id": "KhAcAO9Evuc7",
      "execution_count": 4,
      "outputs": []
    },
    {
      "cell_type": "code",
      "source": [
        "# Déclarer les accumulateurs pour compter les lignes\n",
        "total_lines = spark.sparkContext.accumulator(0)\n",
        "valid_lines = spark.sparkContext.accumulator(0)"
      ],
      "metadata": {
        "id": "njiUu8dtvuY_"
      },
      "id": "njiUu8dtvuY_",
      "execution_count": 5,
      "outputs": []
    },
    {
      "cell_type": "code",
      "source": [
        "# Définir les genres à surveiller et les diffuser avec broadcast\n",
        "genres_surveilles = [\"Drama\", \"Comedy\", \"Action\", \"Thriller\"]\n",
        "broadcast_genres = spark.sparkContext.broadcast(genres_surveilles)"
      ],
      "metadata": {
        "id": "sSsCIZXNvuSH"
      },
      "id": "sSsCIZXNvuSH",
      "execution_count": 6,
      "outputs": []
    },
    {
      "cell_type": "code",
      "source": [
        "def traiter_ligne(row):\n",
        "    global total_lines, valid_lines\n",
        "    total_lines += 1\n",
        "\n",
        "    try:\n",
        "        genres_col = row['genres']\n",
        "        release_date = row['release_date']\n",
        "\n",
        "        if not genres_col or not release_date:\n",
        "            return []\n",
        "\n",
        "        # Extraire l'année\n",
        "        year = release_date[:4]\n",
        "\n",
        "        # Nettoyage et parsing du champ genres\n",
        "        genres_json = json.loads(genres_col.replace(\"'\", \"\\\"\"))\n",
        "        genres_extraits = [g['name'] for g in genres_json if 'name' in g]\n",
        "\n",
        "        # Filtrer selon les genres surveillés\n",
        "        genres_valides = [g for g in genres_extraits if g in broadcast_genres.value]\n",
        "\n",
        "        if genres_valides and year.isdigit():\n",
        "            valid_lines += 1\n",
        "            return [(g, year) for g in genres_valides]\n",
        "        else:\n",
        "            return []\n",
        "    except:\n",
        "        return []\n"
      ],
      "metadata": {
        "id": "oyiQPfqDvuHb"
      },
      "id": "oyiQPfqDvuHb",
      "execution_count": 7,
      "outputs": []
    },
    {
      "cell_type": "code",
      "source": [
        "# Appliquer la fonction sur le RDD\n",
        "genre_annee_rdd = rdd.flatMap(traiter_ligne)"
      ],
      "metadata": {
        "id": "RtWCZrK3wmP2"
      },
      "id": "RtWCZrK3wmP2",
      "execution_count": 8,
      "outputs": []
    },
    {
      "cell_type": "code",
      "source": [
        "# Compter le nombre total de films par genre surveillé\n",
        "genre_count = genre_annee_rdd.map(lambda x: (x[0], 1)).reduceByKey(lambda a, b: a + b)"
      ],
      "metadata": {
        "id": "P-eV0KMWw1cN"
      },
      "id": "P-eV0KMWw1cN",
      "execution_count": 9,
      "outputs": []
    },
    {
      "cell_type": "code",
      "source": [
        "# Compter le nombre de films par (genre, année)\n",
        "genre_year_count = genre_annee_rdd.map(lambda x: ((x[0], x[1]), 1)).reduceByKey(lambda a, b: a + b)"
      ],
      "metadata": {
        "id": "zokdkSVtw1VX"
      },
      "id": "zokdkSVtw1VX",
      "execution_count": 10,
      "outputs": []
    },
    {
      "cell_type": "code",
      "source": [
        "# Trouver l'année avec le plus grand nombre de films pour chaque genre\n",
        "max_year_by_genre = genre_year_count.map(lambda x: (x[0][0], (x[0][1], x[1]))).groupByKey().mapValues(lambda values: max(values, key=lambda v: v[1]))"
      ],
      "metadata": {
        "id": "K6w1n_OIw1Od"
      },
      "id": "K6w1n_OIw1Od",
      "execution_count": 11,
      "outputs": []
    },
    {
      "cell_type": "code",
      "source": [
        "# Afficher les résultats\n",
        "print(\"Nombre total de lignes :\", total_lines.value)\n",
        "print(\"Nombre de lignes valides :\", valid_lines.value)\n",
        "\n",
        "print(\"\\n🎬 Nombre total de films par genre surveillé :\")\n",
        "for genre, count in genre_count.collect():\n",
        "    print(f\"{genre} : {count}\")\n",
        "\n",
        "print(\"\\n📅 Année avec le plus de films pour chaque genre surveillé :\")\n",
        "for genre, (year, count) in max_year_by_genre.collect():\n",
        "    print(f\"{genre} : {year} ({count} films)\")"
      ],
      "metadata": {
        "id": "cWsEjG4Mw1Hr",
        "outputId": "6eb41dfa-219f-4128-8832-8b4d7b524d38",
        "colab": {
          "base_uri": "https://localhost:8080/"
        }
      },
      "id": "cWsEjG4Mw1Hr",
      "execution_count": 12,
      "outputs": [
        {
          "output_type": "stream",
          "name": "stdout",
          "text": [
            "Nombre total de lignes : 0\n",
            "Nombre de lignes valides : 0\n",
            "\n",
            "🎬 Nombre total de films par genre surveillé :\n",
            "Comedy : 11943\n",
            "Action : 6046\n",
            "Drama : 18669\n",
            "Thriller : 7139\n",
            "\n",
            "📅 Année avec le plus de films pour chaque genre surveillé :\n",
            "Comedy : 2014 (506 films)\n",
            "Action : 2011 (232 films)\n",
            "Drama : 2014 (752 films)\n",
            "Thriller : 2015 (354 films)\n"
          ]
        }
      ]
    }
  ],
  "metadata": {
    "language_info": {
      "name": "python"
    },
    "colab": {
      "provenance": [],
      "include_colab_link": true
    },
    "kernelspec": {
      "name": "python3",
      "display_name": "Python 3"
    }
  },
  "nbformat": 4,
  "nbformat_minor": 5
}