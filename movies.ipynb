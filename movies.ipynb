{
  "cells": [
    {
      "cell_type": "markdown",
      "metadata": {
        "id": "view-in-github",
        "colab_type": "text"
      },
      "source": [
        "<a href=\"https://colab.research.google.com/github/djili/data-processing/blob/main/movies.ipynb\" target=\"_parent\"><img src=\"https://colab.research.google.com/assets/colab-badge.svg\" alt=\"Open In Colab\"/></a>"
      ]
    },
    {
      "cell_type": "markdown",
      "id": "924c769d",
      "metadata": {
        "id": "924c769d"
      },
      "source": [
        "# Analyse de données  de films\n",
        "\n",
        "Cet exercice consiste à lire un fichier CSV (lien)contenant des informations sur des films, à effectuer une série de transformations et d'actions, tout en intégrant l'utilisation d'accumulateurs pour suivre des métriques globales et des variables broadcast pour distribuer des données statiques aux nœuds de travail.\n",
        "\n",
        "1.   Lire un fichier CSV contenant des informations sur des films(nous utiliserons le RDD du dataframe df.rdd);\n",
        "2.   Utiliser des accumulateurs pour suivre le nombre total de lignes et le nombre de lignes valides;\n",
        "3.   Utiliser des variables broadcast pour distribuer une liste de genres de films à surveiller;\n",
        "4.   Calculer le nombre total de films pour chaque genre surveillé;\n",
        "5.   Identifier les années avec le plus grand nombre de films pour chaque genre surveillé;"
      ]
    },
    {
      "cell_type": "code",
      "source": [
        "from pyspark.sql import SparkSession\n",
        "import json"
      ],
      "metadata": {
        "id": "NYOln7C7vqSy"
      },
      "id": "NYOln7C7vqSy",
      "execution_count": 1,
      "outputs": []
    },
    {
      "cell_type": "code",
      "source": [
        "# Créer et recuperation de la session Spark\n",
        "spark = SparkSession.builder.appName(\"Analyse Films\").getOrCreate()\n",
        "spark"
      ],
      "metadata": {
        "id": "RNCofj6uvukH",
        "colab": {
          "base_uri": "https://localhost:8080/",
          "height": 219
        },
        "outputId": "2c4a913e-be99-4b05-a688-9c96cb554827"
      },
      "id": "RNCofj6uvukH",
      "execution_count": 5,
      "outputs": [
        {
          "output_type": "execute_result",
          "data": {
            "text/plain": [
              "<pyspark.sql.session.SparkSession at 0x7e000c2052d0>"
            ],
            "text/html": [
              "\n",
              "            <div>\n",
              "                <p><b>SparkSession - in-memory</b></p>\n",
              "                \n",
              "        <div>\n",
              "            <p><b>SparkContext</b></p>\n",
              "\n",
              "            <p><a href=\"http://b8353c64ecb3:4040\">Spark UI</a></p>\n",
              "\n",
              "            <dl>\n",
              "              <dt>Version</dt>\n",
              "                <dd><code>v3.5.1</code></dd>\n",
              "              <dt>Master</dt>\n",
              "                <dd><code>local[*]</code></dd>\n",
              "              <dt>AppName</dt>\n",
              "                <dd><code>Analyse Films</code></dd>\n",
              "            </dl>\n",
              "        </div>\n",
              "        \n",
              "            </div>\n",
              "        "
            ]
          },
          "metadata": {},
          "execution_count": 5
        }
      ]
    },
    {
      "cell_type": "code",
      "source": [
        "# Lire le fichier CSV avec en-têtes\n",
        "df = spark.read.option(\"header\", True).csv(\"/content/movies_metadata.csv\")\n",
        "df.show()"
      ],
      "metadata": {
        "id": "5kiIrHJxvugr",
        "colab": {
          "base_uri": "https://localhost:8080/"
        },
        "outputId": "4ad6666a-46e5-4823-c2de-7d073728c981"
      },
      "id": "5kiIrHJxvugr",
      "execution_count": 7,
      "outputs": [
        {
          "output_type": "stream",
          "name": "stdout",
          "text": [
            "+-----+---------------------+--------+--------------------+--------------------+-----+---------+-----------------+--------------------+--------------------+----------+--------------------+--------------------+--------------------+--------------------+--------------------+--------------------+--------------------+--------+--------------------+--------------------+--------+--------------------+-----------------+\n",
            "|adult|belongs_to_collection|  budget|              genres|            homepage|   id|  imdb_id|original_language|      original_title|            overview|popularity|         poster_path|production_companies|production_countries|        release_date|             revenue|             runtime|    spoken_languages|  status|             tagline|               title|   video|        vote_average|       vote_count|\n",
            "+-----+---------------------+--------+--------------------+--------------------+-----+---------+-----------------+--------------------+--------------------+----------+--------------------+--------------------+--------------------+--------------------+--------------------+--------------------+--------------------+--------+--------------------+--------------------+--------+--------------------+-----------------+\n",
            "|False| {'id': 10194, 'na...|30000000|[{'id': 16, 'name...|http://toystory.d...|  862|tt0114709|               en|           Toy Story|Led by Woody, And...| 21.946943|/rhIRbceoE9lR4veE...|[{'name': 'Pixar ...|[{'iso_3166_1': '...|          1995-10-30|           373554033|                81.0|[{'iso_639_1': 'e...|Released|                NULL|           Toy Story|   False|                 7.7|             5415|\n",
            "|False|                 NULL|65000000|[{'id': 12, 'name...|                NULL| 8844|tt0113497|               en|             Jumanji|When siblings Jud...| 17.015539|/vzmL6fP7aPKNKPRT...|[{'name': 'TriSta...|[{'iso_3166_1': '...|          1995-12-15|           262797249|               104.0|[{'iso_639_1': 'e...|Released|Roll the dice and...|             Jumanji|   False|                 6.9|             2413|\n",
            "|False| {'id': 119050, 'n...|       0|[{'id': 10749, 'n...|                NULL|15602|tt0113228|               en|    Grumpier Old Men|A family wedding ...|   11.7129|/6ksm1sjKMFLbO7UY...|[{'name': 'Warner...|[{'iso_3166_1': '...|          1995-12-22|                   0|               101.0|[{'iso_639_1': 'e...|Released|Still Yelling. St...|    Grumpier Old Men|   False|                 6.5|               92|\n",
            "|False|                 NULL|16000000|[{'id': 35, 'name...|                NULL|31357|tt0114885|               en|   Waiting to Exhale|\"Cheated on, mist...|    Bernie| Glo and Robin ta...| determined to fi...|            3.859495|/16XOMpEaLWkrcPqS...|[{'name': 'Twenti...|[{'iso_3166_1': '...|          1995-12-22|81452156|               127.0|[{'iso_639_1': 'e...|Released|Friends are the p...|Waiting to Exhale|\n",
            "|False| {'id': 96871, 'na...|       0|[{'id': 35, 'name...|                NULL|11862|tt0113041|               en|Father of the Bri...|Just when George ...|  8.387519|/e64sOI48hQXyru7n...|[{'name': 'Sandol...|[{'iso_3166_1': '...|          1995-02-10|            76578911|               106.0|[{'iso_639_1': 'e...|Released|Just When His Wor...|Father of the Bri...|   False|                 5.7|              173|\n",
            "|False|                 NULL|60000000|[{'id': 28, 'name...|                NULL|  949|tt0113277|               en|                Heat|Obsessive master ...| 17.924927|/zMyfPUelumio3tiD...|[{'name': 'Regenc...|[{'iso_3166_1': '...|          1995-12-15|           187436818|               170.0|[{'iso_639_1': 'e...|Released|A Los Angeles Cri...|                Heat|   False|                 7.7|             1886|\n",
            "|False|                 NULL|58000000|[{'id': 35, 'name...|                NULL|11860|tt0114319|               en|             Sabrina|An ugly duckling ...|  6.677277|/jQh15y5YB7bWz1Nt...|[{'name': 'Paramo...|[{'iso_3166_1': '...|          1995-12-15|                   0|               127.0|[{'iso_639_1': 'f...|Released|You are cordially...|             Sabrina|   False|                 6.2|              141|\n",
            "|False|                 NULL|       0|[{'id': 28, 'name...|                NULL|45325|tt0112302|               en|        Tom and Huck|A mischievous you...|  2.561161|/sGO5Qa55p7wTu7FJ...|[{'name': 'Walt D...|[{'iso_3166_1': '...|          1995-12-22|                   0|                97.0|[{'iso_639_1': 'e...|Released|The Original Bad ...|        Tom and Huck|   False|                 5.4|               45|\n",
            "|False|                 NULL|35000000|[{'id': 28, 'name...|                NULL| 9091|tt0114576|               en|        Sudden Death|International act...|   5.23158|/eoWvKD60lT95Ss1M...|[{'name': 'Univer...|[{'iso_3166_1': '...|          1995-12-22|            64350171|               106.0|[{'iso_639_1': 'e...|Released|Terror goes into ...|        Sudden Death|   False|                 5.5|              174|\n",
            "|False| {'id': 645, 'name...|58000000|[{'id': 12, 'name...|http://www.mgm.co...|  710|tt0113189|               en|           GoldenEye|James Bond must u...| 14.686036|/5c0ovjT41KnYIHYu...|[{'name': 'United...|[{'iso_3166_1': '...|          1995-11-16|           352194034|               130.0|[{'iso_639_1': 'e...|Released|No limits. No fea...|           GoldenEye|   False|                 6.6|             1194|\n",
            "|False|                 NULL|62000000|[{'id': 35, 'name...|                NULL| 9087|tt0112346|               en|The American Pres...|Widowed U.S. pres...|  6.318445|/lymPNGLZgPHuqM29...|[{'name': 'Columb...|[{'iso_3166_1': '...|          1995-11-17|           107879496|               106.0|[{'iso_639_1': 'e...|Released|Why can't the mos...|The American Pres...|   False|                 6.5|              199|\n",
            "|False|                 NULL|       0|[{'id': 35, 'name...|                NULL|12110|tt0112896|               en|Dracula: Dead and...|When a lawyer sho...|  5.430331|/xve4cgfYItnOhtzL...|[{'name': 'Columb...|[{'iso_3166_1': '...|          1995-12-22|                   0|                88.0|[{'iso_639_1': 'e...|Released|                NULL|Dracula: Dead and...|   False|                 5.7|              210|\n",
            "|False| {'id': 117693, 'n...|       0|[{'id': 10751, 'n...|                NULL|21032|tt0112453|               en|               Balto|An outcast half-w...| 12.140733|/gV5PCAVCPNxlOLFM...|[{'name': 'Univer...|[{'iso_3166_1': '...|          1995-12-22|            11348324|                78.0|[{'iso_639_1': 'e...|Released|Part Dog. Part Wo...|               Balto|   False|                 7.1|              423|\n",
            "|False|                 NULL|44000000|[{'id': 36, 'name...|                NULL|10858|tt0113987|               en|               Nixon|An all-star cast ...|     5.092|/cICkmCEiXRhvZmbu...|[{'name': 'Hollyw...|[{'iso_3166_1': '...|          1995-12-22|            13681765|               192.0|[{'iso_639_1': 'e...|Released|Triumphant in Vic...|               Nixon|   False|                 7.1|               72|\n",
            "|False|                 NULL|98000000|[{'id': 28, 'name...|                NULL| 1408|tt0112760|               en|    Cutthroat Island|Morgan Adams and ...|  7.284477|/odM9973kIv9hcjfH...|[{'name': 'Le Stu...|[{'iso_3166_1': '...|          1995-12-22|            10017322|               119.0|[{'iso_639_1': 'e...|Released|The Course Has Be...|    Cutthroat Island|   False|                 5.7|              137|\n",
            "|False|                 NULL|52000000|[{'id': 18, 'name...|                NULL|  524|tt0112641|               en|              Casino|The life of the g...| 10.137389|/xo517ibXBDdYQY81...|[{'name': 'Univer...|[{'iso_3166_1': '...|          1995-11-22|           116112375|               178.0|[{'iso_639_1': 'e...|Released|No one stays at t...|              Casino|   False|                 7.8|             1343|\n",
            "|False|                 NULL|16500000|[{'id': 18, 'name...|                NULL| 4584|tt0114388|               en|Sense and Sensibi...|Rich Mr. Dashwood...| 10.673167|/lA9HTy84Bb6ZwNey...|[{'name': 'Columb...|[{'iso_3166_1': '...|          1995-12-13|           135000000|               136.0|[{'iso_639_1': 'e...|Released|Lose your heart a...|Sense and Sensibi...|   False|                 7.2|              364|\n",
            "|False|                 NULL| 4000000|[{'id': 80, 'name...|                NULL|    5|tt0113101|               en|          Four Rooms|It's Ted the Bell...|  9.026586|/eQs5hh9rxrk1m4xH...|[{'name': 'Mirama...|[{'iso_3166_1': '...|          1995-12-09|             4300000|                98.0|[{'iso_639_1': 'e...|Released|Twelve outrageous...|          Four Rooms|   False|                 6.5|              539|\n",
            "|False| {'id': 3167, 'nam...|30000000|[{'id': 80, 'name...|                NULL| 9273|tt0112281|               en|Ace Ventura: When...|Summoned from an ...|  8.205448|/wRlGnJhEzcxBjvWt...|[{'name': 'O Ente...|[{'iso_3166_1': '...|          1995-11-10|           212385533|                90.0|[{'iso_639_1': 'e...|Released|New animals. New ...|Ace Ventura: When...|   False|                 6.1|             1128|\n",
            "|False|                 NULL|60000000|[{'id': 28, 'name...|                NULL|11517|tt0113845|               en|         Money Train|A vengeful New Yo...|  7.337906|/jSozzzVOR2kfXgTU...|[{'name': 'Columb...|[{'iso_3166_1': '...|          1995-11-21|            35431113|               103.0|[{'iso_639_1': 'e...|Released|Get on, or GET OU...|         Money Train|   False|                 5.4|              224|\n",
            "+-----+---------------------+--------+--------------------+--------------------+-----+---------+-----------------+--------------------+--------------------+----------+--------------------+--------------------+--------------------+--------------------+--------------------+--------------------+--------------------+--------+--------------------+--------------------+--------+--------------------+-----------------+\n",
            "only showing top 20 rows\n",
            "\n"
          ]
        }
      ]
    },
    {
      "cell_type": "code",
      "source": [
        "#Récupérer le RDD depuis le DataFrame\n",
        "rdd = df.rdd\n",
        "rdd.take(1)"
      ],
      "metadata": {
        "id": "KhAcAO9Evuc7",
        "colab": {
          "base_uri": "https://localhost:8080/"
        },
        "outputId": "2762cc7c-12f8-4624-a1ed-e64e3d882b21"
      },
      "id": "KhAcAO9Evuc7",
      "execution_count": 10,
      "outputs": [
        {
          "output_type": "execute_result",
          "data": {
            "text/plain": [
              "[Row(adult='False', belongs_to_collection=\"{'id': 10194, 'name': 'Toy Story Collection', 'poster_path': '/7G9915LfUQ2lVfwMEEhDsn3kT4B.jpg', 'backdrop_path': '/9FBwqcd9IRruEDUrTdcaafOMKUq.jpg'}\", budget='30000000', genres=\"[{'id': 16, 'name': 'Animation'}, {'id': 35, 'name': 'Comedy'}, {'id': 10751, 'name': 'Family'}]\", homepage='http://toystory.disney.com/toy-story', id='862', imdb_id='tt0114709', original_language='en', original_title='Toy Story', overview=\"Led by Woody, Andy's toys live happily in his room until Andy's birthday brings Buzz Lightyear onto the scene. Afraid of losing his place in Andy's heart, Woody plots against Buzz. But when circumstances separate Buzz and Woody from their owner, the duo eventually learns to put aside their differences.\", popularity='21.946943', poster_path='/rhIRbceoE9lR4veEXuwCC2wARtG.jpg', production_companies=\"[{'name': 'Pixar Animation Studios', 'id': 3}]\", production_countries=\"[{'iso_3166_1': 'US', 'name': 'United States of America'}]\", release_date='1995-10-30', revenue='373554033', runtime='81.0', spoken_languages=\"[{'iso_639_1': 'en', 'name': 'English'}]\", status='Released', tagline=None, title='Toy Story', video='False', vote_average='7.7', vote_count='5415')]"
            ]
          },
          "metadata": {},
          "execution_count": 10
        }
      ]
    },
    {
      "cell_type": "code",
      "source": [
        "# Creation et initialisation d'accumulateur a 0 pour compter le nombre de ligne et le npmbre de lignes totals\n",
        "total_lines = spark.sparkContext.accumulator(0)\n",
        "valid_lines = spark.sparkContext.accumulator(0)\n",
        "total_lines, valid_lines"
      ],
      "metadata": {
        "id": "njiUu8dtvuY_",
        "colab": {
          "base_uri": "https://localhost:8080/"
        },
        "outputId": "cecca207-3c51-4f08-8673-7eee2fab82a9"
      },
      "id": "njiUu8dtvuY_",
      "execution_count": 13,
      "outputs": [
        {
          "output_type": "execute_result",
          "data": {
            "text/plain": [
              "(Accumulator<id=4, value=0>, Accumulator<id=5, value=0>)"
            ]
          },
          "metadata": {},
          "execution_count": 13
        }
      ]
    },
    {
      "cell_type": "code",
      "source": [
        "# Définir les genres à surveiller et les diffuser avec broadcast\n",
        "genres_surveilles = [\"Drama\", \"Comedy\", \"Action\", \"Thriller\"]\n",
        "broadcast_genres = spark.sparkContext.broadcast(genres_surveilles)\n"
      ],
      "metadata": {
        "id": "sSsCIZXNvuSH",
        "colab": {
          "base_uri": "https://localhost:8080/"
        },
        "outputId": "1d705dfa-d1a1-4564-c0f8-16076aac6edb"
      },
      "id": "sSsCIZXNvuSH",
      "execution_count": 16,
      "outputs": [
        {
          "output_type": "stream",
          "name": "stdout",
          "text": [
            "<pyspark.broadcast.Broadcast object at 0x7dffec670450>\n"
          ]
        }
      ]
    },
    {
      "cell_type": "code",
      "source": [
        "def traiter_ligne(row):\n",
        "    global total_lines, valid_lines\n",
        "    total_lines += 1\n",
        "    try:\n",
        "        genres_col = row['genres']\n",
        "        release_date = row['release_date']\n",
        "        if not genres_col or not release_date:\n",
        "            return []\n",
        "        # Extraire l'année\n",
        "        year = release_date[:4]\n",
        "        # Nettoyage et parsing du champ genres\n",
        "        genres_json = json.loads(genres_col.replace(\"'\", \"\\\"\"))\n",
        "        genres_extraits = [g['name'] for g in genres_json if 'name' in g]\n",
        "        # Filtrer selon les genres surveillés\n",
        "        genres_valides = [g for g in genres_extraits if g in broadcast_genres.value]\n",
        "        if genres_valides and year.isdigit():\n",
        "            valid_lines += 1\n",
        "            return [(g, year) for g in genres_valides]\n",
        "        else:\n",
        "            return []\n",
        "    except:\n",
        "        return []"
      ],
      "metadata": {
        "id": "oyiQPfqDvuHb"
      },
      "id": "oyiQPfqDvuHb",
      "execution_count": 18,
      "outputs": []
    },
    {
      "cell_type": "code",
      "source": [
        "# Appliquer la fonction sur le RDD grace a flatMap\n",
        "genre_annee_rdd = rdd.flatMap(traiter_ligne)\n",
        "genre_annee_rdd.take(5)"
      ],
      "metadata": {
        "id": "RtWCZrK3wmP2",
        "colab": {
          "base_uri": "https://localhost:8080/"
        },
        "outputId": "d0969805-7c64-47e9-aaca-02310e5a64f8"
      },
      "id": "RtWCZrK3wmP2",
      "execution_count": 20,
      "outputs": [
        {
          "output_type": "execute_result",
          "data": {
            "text/plain": [
              "[('Comedy', '1995'),\n",
              " ('Comedy', '1995'),\n",
              " ('Comedy', '1995'),\n",
              " ('Action', '1995'),\n",
              " ('Drama', '1995')]"
            ]
          },
          "metadata": {},
          "execution_count": 20
        }
      ]
    },
    {
      "cell_type": "code",
      "source": [
        "# Compter le nombre total de films par genre surveillé\n",
        "genre_count = genre_annee_rdd.map(lambda x: (x[0], 1)).reduceByKey(lambda a, b: a + b)\n",
        "print(genre_count)"
      ],
      "metadata": {
        "id": "P-eV0KMWw1cN",
        "colab": {
          "base_uri": "https://localhost:8080/"
        },
        "outputId": "c8ccc9ef-d2b0-4eef-e149-8d0979b5ec7e"
      },
      "id": "P-eV0KMWw1cN",
      "execution_count": 23,
      "outputs": [
        {
          "output_type": "stream",
          "name": "stdout",
          "text": [
            "PythonRDD[55] at RDD at PythonRDD.scala:53\n"
          ]
        }
      ]
    },
    {
      "cell_type": "code",
      "source": [
        "# Compter le nombre de films par (genre, année)\n",
        "genre_year_count = genre_annee_rdd.map(lambda x: ((x[0], x[1]), 1)).reduceByKey(lambda a, b: a + b)\n",
        "print(genre_year_count)"
      ],
      "metadata": {
        "id": "zokdkSVtw1VX",
        "colab": {
          "base_uri": "https://localhost:8080/"
        },
        "outputId": "43691b2d-15cf-49fa-cc84-14c320cbb413"
      },
      "id": "zokdkSVtw1VX",
      "execution_count": 24,
      "outputs": [
        {
          "output_type": "stream",
          "name": "stdout",
          "text": [
            "PythonRDD[60] at RDD at PythonRDD.scala:53\n"
          ]
        }
      ]
    },
    {
      "cell_type": "code",
      "source": [
        "# Trouver l'année avec le plus grand nombre de films pour chaque genre\n",
        "max_year_by_genre = genre_year_count.map(lambda x: (x[0][0], (x[0][1], x[1]))).groupByKey().mapValues(lambda values: max(values, key=lambda v: v[1]))\n",
        "print(max_year_by_genre)"
      ],
      "metadata": {
        "id": "K6w1n_OIw1Od",
        "colab": {
          "base_uri": "https://localhost:8080/"
        },
        "outputId": "f51b99f6-2246-43bd-999d-810949847422"
      },
      "id": "K6w1n_OIw1Od",
      "execution_count": 25,
      "outputs": [
        {
          "output_type": "stream",
          "name": "stdout",
          "text": [
            "PythonRDD[65] at RDD at PythonRDD.scala:53\n"
          ]
        }
      ]
    },
    {
      "cell_type": "code",
      "source": [
        "# Afficher les résultats\n",
        "print(\"Nombre total de lignes :\", total_lines.value)\n",
        "print(\"Nombre de lignes valides :\", valid_lines.value)\n",
        "\n",
        "print(\"\\n Nombre total de films par genre surveillé :\")\n",
        "for genre, count in genre_count.collect():\n",
        "    print(f\"{genre} : {count}\")\n",
        "\n",
        "print(\"\\n Année avec le plus de films pour chaque genre surveillé :\")\n",
        "for genre, (year, count) in max_year_by_genre.collect():\n",
        "    print(f\"{genre} : {year} ({count} films)\")"
      ],
      "metadata": {
        "colab": {
          "base_uri": "https://localhost:8080/"
        },
        "id": "cWsEjG4Mw1Hr",
        "outputId": "394a7cdb-64c3-4f41-aada-ac3f45cbe030"
      },
      "id": "cWsEjG4Mw1Hr",
      "execution_count": 26,
      "outputs": [
        {
          "output_type": "stream",
          "name": "stdout",
          "text": [
            "Nombre total de lignes : 39819\n",
            "Nombre de lignes valides : 28342\n",
            "\n",
            " Nombre total de films par genre surveillé :\n",
            "Comedy : 10399\n",
            "Action : 5455\n",
            "Drama : 16778\n",
            "Thriller : 6470\n",
            "\n",
            " Année avec le plus de films pour chaque genre surveillé :\n",
            "Comedy : 2014 (441 films)\n",
            "Action : 2011 (216 films)\n",
            "Drama : 2014 (675 films)\n",
            "Thriller : 2014 (313 films)\n"
          ]
        }
      ]
    }
  ],
  "metadata": {
    "language_info": {
      "name": "python"
    },
    "colab": {
      "provenance": [],
      "include_colab_link": true
    },
    "kernelspec": {
      "name": "python3",
      "display_name": "Python 3"
    }
  },
  "nbformat": 4,
  "nbformat_minor": 5
}