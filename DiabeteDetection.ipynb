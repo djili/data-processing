{
  "cells": [
    {
      "cell_type": "markdown",
      "metadata": {
        "id": "view-in-github",
        "colab_type": "text"
      },
      "source": [
        "<a href=\"https://colab.research.google.com/github/djili/data-processing/blob/main/DiabeteDetection.ipynb\" target=\"_parent\"><img src=\"https://colab.research.google.com/assets/colab-badge.svg\" alt=\"Open In Colab\"/></a>"
      ]
    },
    {
      "cell_type": "markdown",
      "source": [
        "# Detection de diabetes\n",
        "Construire et évaluer un modèle de machine learning avec Spark ML.\n",
        "\n",
        "1.  Chargez un DataFrame à partir d'un fichier CSV;\n",
        "2.  Divisez les données en ensembles d'entraînement et de test;\n",
        "3.  Construisez un pipeline de machine learning incluant des étapes de transformation et de modélisation;\n",
        "4.  Entraînez le modèle et évaluez ses performances;"
      ],
      "metadata": {
        "id": "yjd-A2IXhgVY"
      },
      "id": "yjd-A2IXhgVY"
    },
    {
      "cell_type": "code",
      "source": [
        "from pyspark.sql import SparkSession\n",
        "from pyspark.ml.feature import VectorAssembler, StringIndexer\n",
        "from pyspark.sql.functions import col\n",
        "from pyspark.ml.classification import LogisticRegression\n",
        "from pyspark.ml.evaluation import BinaryClassificationEvaluator"
      ],
      "metadata": {
        "id": "MzGs_MYchiRG"
      },
      "id": "MzGs_MYchiRG",
      "execution_count": 3,
      "outputs": []
    },
    {
      "cell_type": "code",
      "source": [
        "spark = SparkSession.builder.appName(\"Diabetes Detection\").getOrCreate()"
      ],
      "metadata": {
        "id": "deBxhAFAhiOv"
      },
      "id": "deBxhAFAhiOv",
      "execution_count": 4,
      "outputs": []
    },
    {
      "cell_type": "code",
      "source": [
        "# Charger les données à partir d'un fichier CSV\n",
        "data = spark.read.csv(\"/content/diabetes.csv\", header=True, inferSchema=True)\n",
        "data.printSchema()\n",
        "data.show(5)"
      ],
      "metadata": {
        "id": "I2MOtLaNhiLi",
        "outputId": "14b90090-b9e3-44d2-f7a0-fd59dcc5ff51",
        "colab": {
          "base_uri": "https://localhost:8080/"
        }
      },
      "id": "I2MOtLaNhiLi",
      "execution_count": 5,
      "outputs": [
        {
          "output_type": "stream",
          "name": "stdout",
          "text": [
            "root\n",
            " |-- PatientID: integer (nullable = true)\n",
            " |-- Pregnancies: integer (nullable = true)\n",
            " |-- PlasmaGlucose: integer (nullable = true)\n",
            " |-- DiastolicBloodPressure: integer (nullable = true)\n",
            " |-- TricepsThickness: integer (nullable = true)\n",
            " |-- SerumInsulin: integer (nullable = true)\n",
            " |-- BMI: double (nullable = true)\n",
            " |-- DiabetesPedigree: double (nullable = true)\n",
            " |-- Age: integer (nullable = true)\n",
            " |-- Diabetic: integer (nullable = true)\n",
            "\n",
            "+---------+-----------+-------------+----------------------+----------------+------------+-----------+----------------+---+--------+\n",
            "|PatientID|Pregnancies|PlasmaGlucose|DiastolicBloodPressure|TricepsThickness|SerumInsulin|        BMI|DiabetesPedigree|Age|Diabetic|\n",
            "+---------+-----------+-------------+----------------------+----------------+------------+-----------+----------------+---+--------+\n",
            "|  1354778|          0|          171|                    80|              34|          23|43.50972593|     1.213191354| 21|       0|\n",
            "|  1147438|          8|           92|                    93|              47|          36|21.24057571|     0.158364981| 23|       0|\n",
            "|  1640031|          7|          115|                    47|              52|          35|41.51152348|     0.079018568| 23|       0|\n",
            "|  1883350|          9|          103|                    78|              25|         304|29.58219193|     1.282869847| 43|       1|\n",
            "|  1424119|          1|           85|                    59|              27|          35|42.60453585|     0.549541871| 22|       0|\n",
            "+---------+-----------+-------------+----------------------+----------------+------------+-----------+----------------+---+--------+\n",
            "only showing top 5 rows\n",
            "\n"
          ]
        }
      ]
    },
    {
      "cell_type": "code",
      "source": [
        "# Assembler les colonnes de caractéristiques\n",
        "feature_columns = [col for col in data.columns if col != 'Diabetic']\n",
        "assembler = VectorAssembler(inputCols=feature_columns, outputCol=\"features\")\n",
        "data_prepared = assembler.transform(data)"
      ],
      "metadata": {
        "id": "9_WzbKu1hiIQ"
      },
      "id": "9_WzbKu1hiIQ",
      "execution_count": 6,
      "outputs": []
    },
    {
      "cell_type": "code",
      "source": [
        "# Diviser les données en ensembles d'entraînement et de test\n",
        "train_data, test_data = data_prepared.randomSplit([0.8, 0.2])"
      ],
      "metadata": {
        "id": "96qxggP6hiEb"
      },
      "id": "96qxggP6hiEb",
      "execution_count": 7,
      "outputs": []
    },
    {
      "cell_type": "code",
      "source": [
        "# Entraîner un modèle de régression logistique\n",
        "lr = LogisticRegression(featuresCol=\"features\", labelCol=\"Diabetic\")\n",
        "lr_model = lr.fit(train_data)"
      ],
      "metadata": {
        "id": "_NMq5Occhh96"
      },
      "id": "_NMq5Occhh96",
      "execution_count": 8,
      "outputs": []
    },
    {
      "cell_type": "code",
      "source": [
        "# Faire des prédictions sur les données de test\n",
        "predictions = lr_model.transform(test_data)\n",
        "predictions.select(\"features\", \"Diabetic\", \"prediction\").show(5)"
      ],
      "metadata": {
        "id": "4Oqjq5Hwh0SQ",
        "outputId": "4c5765ab-7d84-45c4-f66f-75f2fe87059a",
        "colab": {
          "base_uri": "https://localhost:8080/"
        }
      },
      "id": "4Oqjq5Hwh0SQ",
      "execution_count": 9,
      "outputs": [
        {
          "output_type": "stream",
          "name": "stdout",
          "text": [
            "+--------------------+--------+----------+\n",
            "|            features|Diabetic|prediction|\n",
            "+--------------------+--------+----------+\n",
            "|[1000183.0,1.0,16...|       0|       0.0|\n",
            "|[1000326.0,3.0,11...|       1|       1.0|\n",
            "|[1001511.0,4.0,97...|       1|       1.0|\n",
            "|[1002418.0,2.0,99...|       1|       1.0|\n",
            "|[1003373.0,0.0,94...|       0|       0.0|\n",
            "+--------------------+--------+----------+\n",
            "only showing top 5 rows\n",
            "\n"
          ]
        }
      ]
    },
    {
      "cell_type": "code",
      "source": [
        "# Correct the label column name to \"Diabetic\"\n",
        "evaluator = BinaryClassificationEvaluator(labelCol=\"Diabetic\", rawPredictionCol=\"prediction\", metricName=\"areaUnderROC\")\n",
        "areaUnderROC = evaluator.evaluate(predictions)\n",
        "print(f\"ROC: {areaUnderROC}\")"
      ],
      "metadata": {
        "id": "rb3DHsigh6Bh",
        "outputId": "3fe0833f-19a2-49d3-be0e-f795d8ec72cd",
        "colab": {
          "base_uri": "https://localhost:8080/"
        }
      },
      "id": "rb3DHsigh6Bh",
      "execution_count": 10,
      "outputs": [
        {
          "output_type": "stream",
          "name": "stdout",
          "text": [
            "ROC: 0.7425296960290656\n"
          ]
        }
      ]
    },
    {
      "cell_type": "code",
      "source": [
        "spark.stop()"
      ],
      "metadata": {
        "id": "xJNrzyknhff8"
      },
      "id": "xJNrzyknhff8",
      "execution_count": 11,
      "outputs": []
    }
  ],
  "metadata": {
    "language_info": {
      "name": "python"
    },
    "colab": {
      "provenance": [],
      "include_colab_link": true
    },
    "kernelspec": {
      "name": "python3",
      "display_name": "Python 3"
    }
  },
  "nbformat": 4,
  "nbformat_minor": 5
}