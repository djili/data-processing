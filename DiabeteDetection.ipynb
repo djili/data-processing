{
 "cells": [
  {
   "cell_type": "markdown",
   "id": "ab2a6bb6",
   "metadata": {},
   "source": [
    "test"
   ]
  }
 ],
 "metadata": {
  "language_info": {
   "name": "python"
  }
 },
 "nbformat": 4,
 "nbformat_minor": 5
}
