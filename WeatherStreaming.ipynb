{
  "cells": [
    {
      "cell_type": "code",
      "execution_count": 2,
      "id": "cfa2bff0",
      "metadata": {
        "vscode": {
          "languageId": "plaintext"
        },
        "id": "cfa2bff0"
      },
      "outputs": [],
      "source": [
        "import threading\n",
        "import socket\n",
        "import time\n",
        "import requests\n",
        "import json\n",
        "\n",
        "from pyspark.sql import SparkSession\n",
        "from pyspark.streaming import StreamingContext"
      ]
    },
    {
      "cell_type": "code",
      "source": [
        "# === CONFIGURATION ===\n",
        "API_KEY = \"a44791367a5c3a1336e2a70a7d9a6b8d\"\n",
        "CITY = \"Dakar\"\n",
        "INTERVAL = 10  # secondes\n",
        "HOST = \"localhost\"\n",
        "PORT = 9999"
      ],
      "metadata": {
        "id": "tvcpdH84fmh-"
      },
      "id": "tvcpdH84fmh-",
      "execution_count": 3,
      "outputs": []
    },
    {
      "cell_type": "code",
      "source": [
        "# === FONCTION DE RÉCUPÉRATION DES DONNÉES MÉTÉO ===\n",
        "def fetch_weather_data():\n",
        "    url = f\"http://api.openweathermap.org/data/2.5/weather?q={CITY}&appid={API_KEY}&units=metric\"\n",
        "    response = requests.get(url)\n",
        "    data = response.json()\n",
        "    if response.status_code == 200:\n",
        "        weather_info = {\n",
        "            \"city\": data[\"name\"],\n",
        "            \"temp\": data[\"main\"][\"temp\"],\n",
        "            \"humidity\": data[\"main\"][\"humidity\"],\n",
        "            \"description\": data[\"weather\"][0][\"description\"],\n",
        "            \"timestamp\": time.strftime('%Y-%m-%d %H:%M:%S')\n",
        "        }\n",
        "        return json.dumps(weather_info)\n",
        "    else:\n",
        "        return json.dumps({\"error\": \"Erreur API\", \"message\": data.get(\"message\", \"\")})"
      ],
      "metadata": {
        "id": "MiIgW2T0fmeF"
      },
      "id": "MiIgW2T0fmeF",
      "execution_count": 4,
      "outputs": []
    },
    {
      "cell_type": "code",
      "source": [
        "# === THREAD SOCKET POUR ENVOYER LES DONNÉES EN TEMPS RÉEL ===\n",
        "def start_socket_server():\n",
        "    server_socket = socket.socket(socket.AF_INET, socket.SOCK_STREAM)\n",
        "    server_socket.bind((HOST, PORT))\n",
        "    server_socket.listen(1)\n",
        "    print(f\"✅ Socket server actif sur {HOST}:{PORT}, en attente de Spark...\")\n",
        "    client_socket, addr = server_socket.accept()\n",
        "    print(f\"💡 Spark Streaming connecté depuis {addr}\")\n",
        "\n",
        "    while True:\n",
        "        weather_json = fetch_weather_data()\n",
        "        print(f\"📡 Envoi météo : {weather_json}\")\n",
        "        client_socket.send((weather_json + \"\\n\").encode(\"utf-8\"))\n",
        "        time.sleep(INTERVAL)"
      ],
      "metadata": {
        "id": "7z046cXUfmVC"
      },
      "id": "7z046cXUfmVC",
      "execution_count": 5,
      "outputs": []
    },
    {
      "cell_type": "code",
      "source": [
        "# === DÉMARRAGE DU THREAD SOCKET ===\n",
        "threading.Thread(target=start_socket_server, daemon=True).start()"
      ],
      "metadata": {
        "id": "0sNsovAygoIS"
      },
      "id": "0sNsovAygoIS",
      "execution_count": 6,
      "outputs": []
    },
    {
      "cell_type": "code",
      "source": [
        "# === CONFIGURATION SPARK STREAMING ===\n",
        "spark = SparkSession.builder.appName(\"StreamingMeteo\").getOrCreate()\n",
        "sc = spark.sparkContext\n",
        "ssc = StreamingContext(sc, INTERVAL)"
      ],
      "metadata": {
        "id": "_DfhVN6FgpsW",
        "outputId": "c500c6d8-9c02-4c0e-8ca0-9f1e064bf4c2",
        "colab": {
          "base_uri": "https://localhost:8080/"
        }
      },
      "id": "_DfhVN6FgpsW",
      "execution_count": 7,
      "outputs": [
        {
          "output_type": "stream",
          "name": "stdout",
          "text": [
            "✅ Socket server actif sur localhost:9999, en attente de Spark...\n"
          ]
        },
        {
          "output_type": "stream",
          "name": "stderr",
          "text": [
            "/usr/local/lib/python3.11/dist-packages/pyspark/streaming/context.py:72: FutureWarning: DStream is deprecated as of Spark 3.4.0. Migrate to Structured Streaming.\n",
            "  warnings.warn(\n"
          ]
        }
      ]
    },
    {
      "cell_type": "code",
      "source": [
        "# === CRÉATION DU FLUX DE DONNÉES DEPUIS LE SOCKET ===\n",
        "lines = ssc.socketTextStream(HOST, PORT)"
      ],
      "metadata": {
        "id": "pojlUf7Igpnq"
      },
      "id": "pojlUf7Igpnq",
      "execution_count": 8,
      "outputs": []
    },
    {
      "cell_type": "code",
      "source": [
        "# === TRAITEMENT DES DONNÉES MÉTÉO EN TEMPS RÉEL ===\n",
        "def traiter_ligne(rdd):\n",
        "    if not rdd.isEmpty():\n",
        "        df = spark.read.json(rdd)\n",
        "        df.select(\"timestamp\", \"city\", \"temp\", \"humidity\", \"description\").show(truncate=False)\n",
        "\n",
        "lines.foreachRDD(traiter_ligne)"
      ],
      "metadata": {
        "id": "usFy1NmXgpjl"
      },
      "id": "usFy1NmXgpjl",
      "execution_count": 9,
      "outputs": []
    },
    {
      "cell_type": "code",
      "source": [
        "# === LANCEMENT DU STREAMING ===\n",
        "ssc.start()\n",
        "ssc.awaitTermination()"
      ],
      "metadata": {
        "id": "DSwT0rzagyYb",
        "outputId": "66961579-5afe-410b-cdf9-9bc8a438ff61",
        "colab": {
          "base_uri": "https://localhost:8080/",
          "height": 1000
        }
      },
      "id": "DSwT0rzagyYb",
      "execution_count": 11,
      "outputs": [
        {
          "output_type": "stream",
          "name": "stdout",
          "text": [
            "📡 Envoi météo : {\"city\": \"Dakar\", \"temp\": 27.92, \"humidity\": 77, \"description\": \"scattered clouds\", \"timestamp\": \"2025-07-15 19:20:16\"}\n",
            "+-------------------+-----+-----+--------+----------------+\n",
            "|timestamp          |city |temp |humidity|description     |\n",
            "+-------------------+-----+-----+--------+----------------+\n",
            "|2025-07-15 19:20:16|Dakar|27.92|77      |scattered clouds|\n",
            "+-------------------+-----+-----+--------+----------------+\n",
            "\n",
            "📡 Envoi météo : {\"city\": \"Dakar\", \"temp\": 27.92, \"humidity\": 78, \"description\": \"scattered clouds\", \"timestamp\": \"2025-07-15 19:20:26\"}\n",
            "+-------------------+-----+-----+--------+----------------+\n",
            "|timestamp          |city |temp |humidity|description     |\n",
            "+-------------------+-----+-----+--------+----------------+\n",
            "|2025-07-15 19:20:26|Dakar|27.92|78      |scattered clouds|\n",
            "+-------------------+-----+-----+--------+----------------+\n",
            "\n",
            "📡 Envoi météo : {\"city\": \"Dakar\", \"temp\": 27.92, \"humidity\": 77, \"description\": \"scattered clouds\", \"timestamp\": \"2025-07-15 19:20:36\"}\n",
            "+-------------------+-----+-----+--------+----------------+\n",
            "|timestamp          |city |temp |humidity|description     |\n",
            "+-------------------+-----+-----+--------+----------------+\n",
            "|2025-07-15 19:20:36|Dakar|27.92|77      |scattered clouds|\n",
            "+-------------------+-----+-----+--------+----------------+\n",
            "\n",
            "📡 Envoi météo : {\"city\": \"Dakar\", \"temp\": 27.92, \"humidity\": 77, \"description\": \"scattered clouds\", \"timestamp\": \"2025-07-15 19:20:46\"}\n",
            "+-------------------+-----+-----+--------+----------------+\n",
            "|timestamp          |city |temp |humidity|description     |\n",
            "+-------------------+-----+-----+--------+----------------+\n",
            "|2025-07-15 19:20:46|Dakar|27.92|77      |scattered clouds|\n",
            "+-------------------+-----+-----+--------+----------------+\n",
            "\n",
            "📡 Envoi météo : {\"city\": \"Dakar\", \"temp\": 27.92, \"humidity\": 77, \"description\": \"scattered clouds\", \"timestamp\": \"2025-07-15 19:20:56\"}\n",
            "+-------------------+-----+-----+--------+----------------+\n",
            "|timestamp          |city |temp |humidity|description     |\n",
            "+-------------------+-----+-----+--------+----------------+\n",
            "|2025-07-15 19:20:56|Dakar|27.92|77      |scattered clouds|\n",
            "+-------------------+-----+-----+--------+----------------+\n",
            "\n",
            "📡 Envoi météo : {\"city\": \"Dakar\", \"temp\": 27.92, \"humidity\": 77, \"description\": \"scattered clouds\", \"timestamp\": \"2025-07-15 19:21:06\"}\n",
            "+-------------------+-----+-----+--------+----------------+\n",
            "|timestamp          |city |temp |humidity|description     |\n",
            "+-------------------+-----+-----+--------+----------------+\n",
            "|2025-07-15 19:21:06|Dakar|27.92|77      |scattered clouds|\n",
            "+-------------------+-----+-----+--------+----------------+\n",
            "\n"
          ]
        },
        {
          "output_type": "stream",
          "name": "stderr",
          "text": [
            "ERROR:root:KeyboardInterrupt while sending command.\n",
            "Traceback (most recent call last):\n",
            "  File \"/usr/local/lib/python3.11/dist-packages/py4j/java_gateway.py\", line 1038, in send_command\n",
            "    response = connection.send_command(command)\n",
            "               ^^^^^^^^^^^^^^^^^^^^^^^^^^^^^^^^\n",
            "  File \"/usr/local/lib/python3.11/dist-packages/py4j/clientserver.py\", line 511, in send_command\n",
            "    answer = smart_decode(self.stream.readline()[:-1])\n",
            "                          ^^^^^^^^^^^^^^^^^^^^^^\n",
            "  File \"/usr/lib/python3.11/socket.py\", line 718, in readinto\n",
            "    return self._sock.recv_into(b)\n",
            "           ^^^^^^^^^^^^^^^^^^^^^^^\n",
            "KeyboardInterrupt\n"
          ]
        },
        {
          "output_type": "error",
          "ename": "KeyboardInterrupt",
          "evalue": "",
          "traceback": [
            "\u001b[0;31m---------------------------------------------------------------------------\u001b[0m",
            "\u001b[0;31mKeyboardInterrupt\u001b[0m                         Traceback (most recent call last)",
            "\u001b[0;32m/tmp/ipython-input-11-1677477179.py\u001b[0m in \u001b[0;36m<cell line: 0>\u001b[0;34m()\u001b[0m\n\u001b[1;32m      1\u001b[0m \u001b[0;31m# === LANCEMENT DU STREAMING ===\u001b[0m\u001b[0;34m\u001b[0m\u001b[0;34m\u001b[0m\u001b[0m\n\u001b[1;32m      2\u001b[0m \u001b[0mssc\u001b[0m\u001b[0;34m.\u001b[0m\u001b[0mstart\u001b[0m\u001b[0;34m(\u001b[0m\u001b[0;34m)\u001b[0m\u001b[0;34m\u001b[0m\u001b[0;34m\u001b[0m\u001b[0m\n\u001b[0;32m----> 3\u001b[0;31m \u001b[0mssc\u001b[0m\u001b[0;34m.\u001b[0m\u001b[0mawaitTermination\u001b[0m\u001b[0;34m(\u001b[0m\u001b[0;34m)\u001b[0m\u001b[0;34m\u001b[0m\u001b[0;34m\u001b[0m\u001b[0m\n\u001b[0m",
            "\u001b[0;32m/usr/local/lib/python3.11/dist-packages/pyspark/streaming/context.py\u001b[0m in \u001b[0;36mawaitTermination\u001b[0;34m(self, timeout)\u001b[0m\n\u001b[1;32m    237\u001b[0m         \"\"\"\n\u001b[1;32m    238\u001b[0m         \u001b[0;32mif\u001b[0m \u001b[0mtimeout\u001b[0m \u001b[0;32mis\u001b[0m \u001b[0;32mNone\u001b[0m\u001b[0;34m:\u001b[0m\u001b[0;34m\u001b[0m\u001b[0;34m\u001b[0m\u001b[0m\n\u001b[0;32m--> 239\u001b[0;31m             \u001b[0mself\u001b[0m\u001b[0;34m.\u001b[0m\u001b[0m_jssc\u001b[0m\u001b[0;34m.\u001b[0m\u001b[0mawaitTermination\u001b[0m\u001b[0;34m(\u001b[0m\u001b[0;34m)\u001b[0m\u001b[0;34m\u001b[0m\u001b[0;34m\u001b[0m\u001b[0m\n\u001b[0m\u001b[1;32m    240\u001b[0m         \u001b[0;32melse\u001b[0m\u001b[0;34m:\u001b[0m\u001b[0;34m\u001b[0m\u001b[0;34m\u001b[0m\u001b[0m\n\u001b[1;32m    241\u001b[0m             \u001b[0mself\u001b[0m\u001b[0;34m.\u001b[0m\u001b[0m_jssc\u001b[0m\u001b[0;34m.\u001b[0m\u001b[0mawaitTerminationOrTimeout\u001b[0m\u001b[0;34m(\u001b[0m\u001b[0mint\u001b[0m\u001b[0;34m(\u001b[0m\u001b[0mtimeout\u001b[0m \u001b[0;34m*\u001b[0m \u001b[0;36m1000\u001b[0m\u001b[0;34m)\u001b[0m\u001b[0;34m)\u001b[0m\u001b[0;34m\u001b[0m\u001b[0;34m\u001b[0m\u001b[0m\n",
            "\u001b[0;32m/usr/local/lib/python3.11/dist-packages/py4j/java_gateway.py\u001b[0m in \u001b[0;36m__call__\u001b[0;34m(self, *args)\u001b[0m\n\u001b[1;32m   1319\u001b[0m             \u001b[0mproto\u001b[0m\u001b[0;34m.\u001b[0m\u001b[0mEND_COMMAND_PART\u001b[0m\u001b[0;34m\u001b[0m\u001b[0;34m\u001b[0m\u001b[0m\n\u001b[1;32m   1320\u001b[0m \u001b[0;34m\u001b[0m\u001b[0m\n\u001b[0;32m-> 1321\u001b[0;31m         \u001b[0manswer\u001b[0m \u001b[0;34m=\u001b[0m \u001b[0mself\u001b[0m\u001b[0;34m.\u001b[0m\u001b[0mgateway_client\u001b[0m\u001b[0;34m.\u001b[0m\u001b[0msend_command\u001b[0m\u001b[0;34m(\u001b[0m\u001b[0mcommand\u001b[0m\u001b[0;34m)\u001b[0m\u001b[0;34m\u001b[0m\u001b[0;34m\u001b[0m\u001b[0m\n\u001b[0m\u001b[1;32m   1322\u001b[0m         return_value = get_return_value(\n\u001b[1;32m   1323\u001b[0m             answer, self.gateway_client, self.target_id, self.name)\n",
            "\u001b[0;32m/usr/local/lib/python3.11/dist-packages/py4j/java_gateway.py\u001b[0m in \u001b[0;36msend_command\u001b[0;34m(self, command, retry, binary)\u001b[0m\n\u001b[1;32m   1036\u001b[0m         \u001b[0mconnection\u001b[0m \u001b[0;34m=\u001b[0m \u001b[0mself\u001b[0m\u001b[0;34m.\u001b[0m\u001b[0m_get_connection\u001b[0m\u001b[0;34m(\u001b[0m\u001b[0;34m)\u001b[0m\u001b[0;34m\u001b[0m\u001b[0;34m\u001b[0m\u001b[0m\n\u001b[1;32m   1037\u001b[0m         \u001b[0;32mtry\u001b[0m\u001b[0;34m:\u001b[0m\u001b[0;34m\u001b[0m\u001b[0;34m\u001b[0m\u001b[0m\n\u001b[0;32m-> 1038\u001b[0;31m             \u001b[0mresponse\u001b[0m \u001b[0;34m=\u001b[0m \u001b[0mconnection\u001b[0m\u001b[0;34m.\u001b[0m\u001b[0msend_command\u001b[0m\u001b[0;34m(\u001b[0m\u001b[0mcommand\u001b[0m\u001b[0;34m)\u001b[0m\u001b[0;34m\u001b[0m\u001b[0;34m\u001b[0m\u001b[0m\n\u001b[0m\u001b[1;32m   1039\u001b[0m             \u001b[0;32mif\u001b[0m \u001b[0mbinary\u001b[0m\u001b[0;34m:\u001b[0m\u001b[0;34m\u001b[0m\u001b[0;34m\u001b[0m\u001b[0m\n\u001b[1;32m   1040\u001b[0m                 \u001b[0;32mreturn\u001b[0m \u001b[0mresponse\u001b[0m\u001b[0;34m,\u001b[0m \u001b[0mself\u001b[0m\u001b[0;34m.\u001b[0m\u001b[0m_create_connection_guard\u001b[0m\u001b[0;34m(\u001b[0m\u001b[0mconnection\u001b[0m\u001b[0;34m)\u001b[0m\u001b[0;34m\u001b[0m\u001b[0;34m\u001b[0m\u001b[0m\n",
            "\u001b[0;32m/usr/local/lib/python3.11/dist-packages/py4j/clientserver.py\u001b[0m in \u001b[0;36msend_command\u001b[0;34m(self, command)\u001b[0m\n\u001b[1;32m    509\u001b[0m         \u001b[0;32mtry\u001b[0m\u001b[0;34m:\u001b[0m\u001b[0;34m\u001b[0m\u001b[0;34m\u001b[0m\u001b[0m\n\u001b[1;32m    510\u001b[0m             \u001b[0;32mwhile\u001b[0m \u001b[0;32mTrue\u001b[0m\u001b[0;34m:\u001b[0m\u001b[0;34m\u001b[0m\u001b[0;34m\u001b[0m\u001b[0m\n\u001b[0;32m--> 511\u001b[0;31m                 \u001b[0manswer\u001b[0m \u001b[0;34m=\u001b[0m \u001b[0msmart_decode\u001b[0m\u001b[0;34m(\u001b[0m\u001b[0mself\u001b[0m\u001b[0;34m.\u001b[0m\u001b[0mstream\u001b[0m\u001b[0;34m.\u001b[0m\u001b[0mreadline\u001b[0m\u001b[0;34m(\u001b[0m\u001b[0;34m)\u001b[0m\u001b[0;34m[\u001b[0m\u001b[0;34m:\u001b[0m\u001b[0;34m-\u001b[0m\u001b[0;36m1\u001b[0m\u001b[0;34m]\u001b[0m\u001b[0;34m)\u001b[0m\u001b[0;34m\u001b[0m\u001b[0;34m\u001b[0m\u001b[0m\n\u001b[0m\u001b[1;32m    512\u001b[0m                 \u001b[0mlogger\u001b[0m\u001b[0;34m.\u001b[0m\u001b[0mdebug\u001b[0m\u001b[0;34m(\u001b[0m\u001b[0;34m\"Answer received: {0}\"\u001b[0m\u001b[0;34m.\u001b[0m\u001b[0mformat\u001b[0m\u001b[0;34m(\u001b[0m\u001b[0manswer\u001b[0m\u001b[0;34m)\u001b[0m\u001b[0;34m)\u001b[0m\u001b[0;34m\u001b[0m\u001b[0;34m\u001b[0m\u001b[0m\n\u001b[1;32m    513\u001b[0m                 \u001b[0;31m# Happens when a the other end is dead. There might be an empty\u001b[0m\u001b[0;34m\u001b[0m\u001b[0;34m\u001b[0m\u001b[0m\n",
            "\u001b[0;32m/usr/lib/python3.11/socket.py\u001b[0m in \u001b[0;36mreadinto\u001b[0;34m(self, b)\u001b[0m\n\u001b[1;32m    716\u001b[0m         \u001b[0;32mwhile\u001b[0m \u001b[0;32mTrue\u001b[0m\u001b[0;34m:\u001b[0m\u001b[0;34m\u001b[0m\u001b[0;34m\u001b[0m\u001b[0m\n\u001b[1;32m    717\u001b[0m             \u001b[0;32mtry\u001b[0m\u001b[0;34m:\u001b[0m\u001b[0;34m\u001b[0m\u001b[0;34m\u001b[0m\u001b[0m\n\u001b[0;32m--> 718\u001b[0;31m                 \u001b[0;32mreturn\u001b[0m \u001b[0mself\u001b[0m\u001b[0;34m.\u001b[0m\u001b[0m_sock\u001b[0m\u001b[0;34m.\u001b[0m\u001b[0mrecv_into\u001b[0m\u001b[0;34m(\u001b[0m\u001b[0mb\u001b[0m\u001b[0;34m)\u001b[0m\u001b[0;34m\u001b[0m\u001b[0;34m\u001b[0m\u001b[0m\n\u001b[0m\u001b[1;32m    719\u001b[0m             \u001b[0;32mexcept\u001b[0m \u001b[0mtimeout\u001b[0m\u001b[0;34m:\u001b[0m\u001b[0;34m\u001b[0m\u001b[0;34m\u001b[0m\u001b[0m\n\u001b[1;32m    720\u001b[0m                 \u001b[0mself\u001b[0m\u001b[0;34m.\u001b[0m\u001b[0m_timeout_occurred\u001b[0m \u001b[0;34m=\u001b[0m \u001b[0;32mTrue\u001b[0m\u001b[0;34m\u001b[0m\u001b[0;34m\u001b[0m\u001b[0m\n",
            "\u001b[0;31mKeyboardInterrupt\u001b[0m: "
          ]
        }
      ]
    },
    {
      "cell_type": "code",
      "source": [
        "ssc.stop()"
      ],
      "metadata": {
        "id": "_V61H821h3eq"
      },
      "id": "_V61H821h3eq",
      "execution_count": null,
      "outputs": []
    }
  ],
  "metadata": {
    "language_info": {
      "name": "python"
    },
    "colab": {
      "provenance": []
    },
    "kernelspec": {
      "name": "python3",
      "display_name": "Python 3"
    }
  },
  "nbformat": 4,
  "nbformat_minor": 5
}